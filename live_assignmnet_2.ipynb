{
 "cells": [
  {
   "cell_type": "markdown",
   "metadata": {},
   "source": [
    "## **Solution 1.1:**"
   ]
  },
  {
   "cell_type": "markdown",
   "metadata": {},
   "source": [
    "### **What is the difference between static and dynamic variables in Python?**"
   ]
  },
  {
   "cell_type": "markdown",
   "metadata": {},
   "source": [
    "In Python, variables are dynamically typed. This means that the type of the variable is determined at runtime and can change. Static typing, on the other hand, means that the type of the variable is known at compile time and cannot change.\n",
    "\n",
    "**Static Variables:**\n",
    "* Static variables are not commonly used in Python, as it is a dynamically typed language.\n",
    "* Static variables are typically used in class definations to share a variables among all instances of the class.\n",
    "\n",
    "**Dynamic Variables:**\n",
    "* Dynamic variables are the norm in Python. They can be reassigned to different types of objects at runtime.\n",
    "\n",
    "**Example:**"
   ]
  },
  {
   "cell_type": "code",
   "execution_count": 2,
   "metadata": {},
   "outputs": [
    {
     "name": "stdout",
     "output_type": "stream",
     "text": [
      "0\n",
      "10\n",
      "Logistic Regression\n"
     ]
    }
   ],
   "source": [
    "class MyClass:\n",
    "    static_var = 0  # Static variable\n",
    "\n",
    "    def __init__(self, value):\n",
    "        self.dynamic_var = value    # Dynamic variable\n",
    "\n",
    "# Accessing static variable\n",
    "print(MyClass.static_var)\n",
    "\n",
    "# Creating an instance and accessing dynamic variable\n",
    "obj = MyClass(10)\n",
    "print(obj.dynamic_var)\n",
    "\n",
    "# Changing dynamic variable\n",
    "obj.dynamic_var = 'Logistic Regression'\n",
    "print(obj.dynamic_var)"
   ]
  },
  {
   "cell_type": "markdown",
   "metadata": {},
   "source": [
    "### **Explain the purpose of \"pop\",\"popitem\",\"clear()\" in a dictionary with suitable examples.**"
   ]
  },
  {
   "cell_type": "markdown",
   "metadata": {},
   "source": [
    "**'pop(key[, default])':**\n",
    "* Removes the specified key and returns the corresponding value. If the key is not found, 'default' is returned if provided, otherwise, a 'keyError' is raised.\n",
    "\n",
    "**Example:**"
   ]
  },
  {
   "cell_type": "code",
   "execution_count": 22,
   "metadata": {},
   "outputs": [
    {
     "name": "stdout",
     "output_type": "stream",
     "text": [
      "1\n",
      "{'b': 2, 'c': 3}\n"
     ]
    }
   ],
   "source": [
    "my_dict = {'a': 1, 'b': 2, 'c': 3}\n",
    "value = my_dict.pop('a')\n",
    "print(value)\n",
    "print(my_dict)"
   ]
  },
  {
   "cell_type": "markdown",
   "metadata": {},
   "source": [
    "**'popitem()':**\n",
    "* Removes and returns a (key, value) pair from the dictionary. Pairs are returned in LIFO (last-in, first-out) order,\n",
    "\n",
    "**Example:**"
   ]
  },
  {
   "cell_type": "code",
   "execution_count": 24,
   "metadata": {},
   "outputs": [
    {
     "name": "stdout",
     "output_type": "stream",
     "text": [
      "('c', 3)\n",
      "{'a': 1, 'b': 2}\n"
     ]
    }
   ],
   "source": [
    "my_dict = {'a': 1 ,'b': 2, 'c': 3}\n",
    "item = my_dict.popitem()\n",
    "print(item)\n",
    "print(my_dict)"
   ]
  },
  {
   "cell_type": "markdown",
   "metadata": {},
   "source": [
    "**'clear()':**\n",
    "* Removes all items from the dictionary.\n",
    "\n",
    "**Example:**"
   ]
  },
  {
   "cell_type": "code",
   "execution_count": 5,
   "metadata": {},
   "outputs": [
    {
     "name": "stdout",
     "output_type": "stream",
     "text": [
      "{}\n"
     ]
    }
   ],
   "source": [
    "my_dict = {'a': 1 ,'b': 2, 'c': 3}\n",
    "my_dict.clear()\n",
    "print(my_dict)"
   ]
  },
  {
   "cell_type": "markdown",
   "metadata": {},
   "source": [
    "### **What do you mean by FrozenSet? Explain it with suitable examples.**"
   ]
  },
  {
   "cell_type": "markdown",
   "metadata": {},
   "source": [
    "**Frozenset:**\n",
    "* A 'frozenset' is an immutable version of a set. While sets are mutable and their elements can be modified, 'frozenset' elements cannot be changed after they are created.\n",
    "\n",
    "**Example:**"
   ]
  },
  {
   "cell_type": "code",
   "execution_count": 25,
   "metadata": {},
   "outputs": [
    {
     "name": "stdout",
     "output_type": "stream",
     "text": [
      "'frozenset' object has no attribute 'add'\n"
     ]
    }
   ],
   "source": [
    "# Creating a set\n",
    "my_set = {1, 2, 3}\n",
    "\n",
    "# Creating a frozenset\n",
    "my_frozenset = frozenset([1, 2, 3])\n",
    "\n",
    "# Trying to modify a frozenset will raise an error\n",
    "try:\n",
    "    my_frozenset.add(4)\n",
    "except AttributeError as e:\n",
    "    print(e)"
   ]
  },
  {
   "cell_type": "markdown",
   "metadata": {},
   "source": [
    "### **Differentiate between mutable and immutable data types in Python and give examples of mutable and immutable data types8**"
   ]
  },
  {
   "cell_type": "markdown",
   "metadata": {},
   "source": [
    "**Mutable Data Types:**\n",
    "* These are data types whose elements can be modified after creation.\n",
    "\n",
    "**Examples:**\n",
    "* Lists: 'list', e.g., '[1, 2, 3]'\n",
    "* Dictionaries: 'dict', e.g., '{'a': 1, 'b': 2}'\n",
    "* Sets: 'set', e.g., '{1, 2, 3}'\n",
    "\n",
    "**Immutable Data Types:**\n",
    "* These are data types whose elements cannot be modified after creation.\n",
    "\n",
    "**Examples:**\n",
    "* Tuples: 'tuple', e.g., '(1, 2, 3)'\n",
    "* Strings: 'str', e.g., '\"Artificial Intelligence\"'\n",
    "* Frozensets: 'frozenset', e.g., 'frozenset([1, 2, 3])'\n",
    "\n",
    "**Example:**\n"
   ]
  },
  {
   "cell_type": "code",
   "execution_count": 26,
   "metadata": {},
   "outputs": [
    {
     "name": "stdout",
     "output_type": "stream",
     "text": [
      "[1, 2, 3, 4]\n",
      "'tuple' object does not support item assignment\n"
     ]
    }
   ],
   "source": [
    "# Mutable data type example\n",
    "my_list = [1, 2, 3]\n",
    "my_list.append(4)\n",
    "print(my_list)\n",
    "\n",
    "# Immutable data type example\n",
    "my_tuple = (1, 2, 3)\n",
    "try:\n",
    "    my_tuple[0] = 4\n",
    "except TypeError as e:\n",
    "    print(e)"
   ]
  },
  {
   "cell_type": "markdown",
   "metadata": {},
   "source": [
    "### **What is __init__?Explain with an example.**"
   ]
  },
  {
   "cell_type": "markdown",
   "metadata": {},
   "source": [
    "**'__init__' Method:**\n",
    "* '__init__' is a special method in Python classes. It is called when an instance (object) of the class is created.\n",
    "* It initialized the instance and sets initial values for the instance attributes.\n",
    "\n",
    "**Example:**"
   ]
  },
  {
   "cell_type": "code",
   "execution_count": 27,
   "metadata": {},
   "outputs": [
    {
     "name": "stdout",
     "output_type": "stream",
     "text": [
      "Alice\n",
      "30\n"
     ]
    }
   ],
   "source": [
    "class Person:\n",
    "    def __init__(self, name, age):\n",
    "        self.name = name\n",
    "        self.age = age\n",
    "\n",
    "# Creating an instance of Person\n",
    "person = Person(\"Alice\", 30)\n",
    "print(person.name)\n",
    "print(person.age)"
   ]
  },
  {
   "cell_type": "markdown",
   "metadata": {},
   "source": [
    "### **What is docstring in Python?Explain with an example.**"
   ]
  },
  {
   "cell_type": "markdown",
   "metadata": {},
   "source": [
    "**Docstring:**\n",
    "* A docstring is a string literal that appears right after the defination of a function, method, method, class, or module.\n",
    "* It is used to document the object, providing a convinient way to associate documentation with Python code.\n",
    "\n",
    "**Example:**"
   ]
  },
  {
   "cell_type": "code",
   "execution_count": 28,
   "metadata": {},
   "outputs": [
    {
     "name": "stdout",
     "output_type": "stream",
     "text": [
      "\n",
      "    Add two numbers and return the result.\n",
      "\n",
      "    Parameters:\n",
      "    a (int or float): The first number.\n",
      "    b (int or float): The second number.\n",
      "\n",
      "    Returns:\n",
      "    int or float: The sum of a and b.\n",
      "    \n"
     ]
    }
   ],
   "source": [
    "def add(a, b):\n",
    "    \"\"\"\n",
    "    Add two numbers and return the result.\n",
    "\n",
    "    Parameters:\n",
    "    a (int or float): The first number.\n",
    "    b (int or float): The second number.\n",
    "\n",
    "    Returns:\n",
    "    int or float: The sum of a and b.\n",
    "    \"\"\"\n",
    "    return a + b\n",
    "\n",
    "# Accessing the docstring\n",
    "print(add.__doc__)"
   ]
  },
  {
   "cell_type": "markdown",
   "metadata": {},
   "source": [
    "### **What are unit tests in Python?**\n",
    "\n",
    "Unit tests are tests that validate the functionality of specific units of code, such as functions, methods, or classes, ensuring they work as expected.\n",
    "\n",
    "Example Using 'unittest' Framework"
   ]
  },
  {
   "cell_type": "code",
   "execution_count": null,
   "metadata": {},
   "outputs": [],
   "source": [
    "import unittest\n",
    "\n",
    "def add(a, b):\n",
    "    return a + b\n",
    "\n",
    "class TestMathOperations(unittest.TestCase):\n",
    "    \n",
    "    def test_add(self):\n",
    "        self.assertEqual(add(3, 4), 7)\n",
    "\n",
    "if __name__ == '__main__':\n",
    "    unittest.main()"
   ]
  },
  {
   "cell_type": "markdown",
   "metadata": {},
   "source": [
    "**Key Points**\n",
    "* **Unit:** The smallest testable part of an application.\n",
    "* **Test Case:** Defines a specific scenario to test.\n",
    "* **Test Suite:** Collection of test cases.\n",
    "* **Test Runner:** Executes tests and reports results.\n",
    "\n",
    "**Benefits**\n",
    "* Early Bug Detection\n",
    "* Simplified Debugging\n",
    "* Documentation\n",
    "* Refactoring Confidence\n",
    "* Continuous Integration\n",
    "\n",
    "Unit tests improve code reliability, maintainability, and help catch bugs early."
   ]
  },
  {
   "cell_type": "markdown",
   "metadata": {},
   "source": [
    "### **What is break, continue and pass in Python?**"
   ]
  },
  {
   "cell_type": "markdown",
   "metadata": {},
   "source": [
    "* **'break':** Terminates the nearest closing loop.\n",
    "* **'continue':** Skips the rest of the code inside the current loop interation nad moves to the next iteration.\n",
    "* **'pass':** Does nothing and can be used as placeholder.\n",
    "\n",
    "**Examples:**"
   ]
  },
  {
   "cell_type": "code",
   "execution_count": 33,
   "metadata": {},
   "outputs": [
    {
     "name": "stdout",
     "output_type": "stream",
     "text": [
      "0 1 2 \n",
      "0 1 2 4 \n",
      "0 1 2 3 4 "
     ]
    }
   ],
   "source": [
    "# break example\n",
    "for i in range(5):\n",
    "    if i == 3:\n",
    "        break\n",
    "    print(i, end=' ')\n",
    "print()\n",
    "\n",
    "# continue example\n",
    "for i in range(5):\n",
    "    if i == 3:\n",
    "        continue\n",
    "    print(i, end=' ')\n",
    "print()\n",
    "\n",
    "# pass example\n",
    "for i in range(5):\n",
    "    if i == 3:\n",
    "        pass\n",
    "    print(i, end=' ')"
   ]
  },
  {
   "cell_type": "markdown",
   "metadata": {},
   "source": [
    "### **What is the use of self in Python?**"
   ]
  },
  {
   "cell_type": "markdown",
   "metadata": {},
   "source": [
    "* **'self'** is used to represent the instance of the class.\n",
    "* It is used to access variables and methods associated with the instance.\n",
    "\n",
    "**Example:**"
   ]
  },
  {
   "cell_type": "code",
   "execution_count": 34,
   "metadata": {},
   "outputs": [
    {
     "name": "stdout",
     "output_type": "stream",
     "text": [
      "10\n"
     ]
    }
   ],
   "source": [
    "class MyClass:\n",
    "    def __init__(self, value):\n",
    "        self.value = value\n",
    "    \n",
    "    def display(self):\n",
    "        print(self.value)\n",
    "\n",
    "obj = MyClass(10)\n",
    "obj.display()"
   ]
  },
  {
   "cell_type": "markdown",
   "metadata": {},
   "source": [
    "### **What are global, protected and private attributes in Python?**"
   ]
  },
  {
   "cell_type": "markdown",
   "metadata": {},
   "source": [
    "**Global Attributes:**\n",
    "* Available throughout the module.\n",
    "* Defined outside any function or class.\n",
    "\n",
    "**Protected Attributes:**\n",
    "* Indicated by a single underscore '_'.\n",
    "* Should not be accessed outside the class or subclass.\n",
    "\n",
    "**Private Attributes:**\n",
    "* Indicated by a double underscore '__'.\n",
    "* Not accessible outside the class."
   ]
  },
  {
   "cell_type": "code",
   "execution_count": 36,
   "metadata": {},
   "outputs": [
    {
     "name": "stdout",
     "output_type": "stream",
     "text": [
      "Public\n",
      "Protected\n",
      "Private\n"
     ]
    }
   ],
   "source": [
    "class MyClass:\n",
    "    def __init__(self):\n",
    "        self.public = 'Public'\n",
    "        self._protected = 'Protected'\n",
    "        self.__private = 'Private'\n",
    "\n",
    "obj = MyClass()\n",
    "print(obj.public)\n",
    "print(obj._protected)\n",
    "# print(obj.__private)  # Raises AttributeError\n",
    "print(obj._MyClass__private)"
   ]
  },
  {
   "cell_type": "markdown",
   "metadata": {},
   "source": [
    "### **What are modules and packages in Python?**\n",
    "\n",
    "**Module:**\n",
    "* A file containing Python definations and statements.\n",
    "* Example: 'mymodule.py'\n",
    "\n",
    "**Package:**\n",
    "* A way of organizing related modules into directories.\n",
    "* Contains an '__init__.py' file to be recognized as a package.\n",
    "\n",
    "**Example:**"
   ]
  },
  {
   "cell_type": "code",
   "execution_count": 37,
   "metadata": {},
   "outputs": [],
   "source": [
    "# module: mymodule.py\n",
    "def my_function():\n",
    "    print(\"Hellow from mymodule!\")\n",
    "\n",
    "# package structure:\n",
    "# mypackage/\n",
    "# |--__init__.py\n",
    "# |__ mymodule.py"
   ]
  },
  {
   "cell_type": "markdown",
   "metadata": {},
   "source": [
    "### **What are lists and tuples? What is the key difference between the two?**\n",
    "\n",
    "* **Lists:** A list is a mutable, ordered collection of elements that can contain elements of different types.\n",
    "* **Tuples:** A tuple is an immutable, ordered collection of elements that can also contain elements of different types.\n",
    "* **Key Difference:** The key difference between lists and tuples is that lists are mutable (they can be modified after creation), whereas tuples are immutable (they cannot be modified after creation)."
   ]
  },
  {
   "cell_type": "code",
   "execution_count": 1,
   "metadata": {},
   "outputs": [
    {
     "name": "stdout",
     "output_type": "stream",
     "text": [
      "[1, 2, 3, 4]\n"
     ]
    }
   ],
   "source": [
    "# List example\n",
    "my_list = [1, 2, 3]\n",
    "my_list.append(4)  # This is allowed\n",
    "print(my_list)  # Output: [1, 2, 3, 4]\n",
    "\n",
    "# Tuple example\n",
    "my_tuple = (1, 2, 3)\n",
    "# my_tuple.append(4)  # This would raise an AttributeError"
   ]
  },
  {
   "cell_type": "markdown",
   "metadata": {},
   "source": [
    "### **What is an interpreted language & dynamically typed language? Write 5 differences between them.**\n",
    "\n",
    "* **Interpreted Language:** A language in which the code is executed line by line by an interpreter at runtime, without the need for prior compilation.\n",
    "* **Dynamically Typed Language:** A language where the type of a variable is determined at runtime, rather than at compile-time.\n",
    "\n",
    "**Differences:**\n",
    " 1. **Execution:** Interpreted languages execute code line-by-line, while dynamically typed languages determine variable types at runtime.\n",
    " 2. **Performance:** Interpreted languages tend to be slower because of the line-by-line execution, whereas dynamic typing itself does not necessarily affect performance.\n",
    " 3. **Compilation:** Interpreted languages do not require compilation, whereas dynamic typing is a feature related to variable type assignment, not compilation.\n",
    " 4. **Error Checking:** Errors in interpreted languages are often caught at runtime, whereas in dynamically typed languages, type-related errors are detected at runtime.\n",
    " 5. **Flexibility:** Interpreted languages provide flexibility in execution, while dynamically typed languages offer flexibility in variable usage and type assignments.\n"
   ]
  },
  {
   "cell_type": "markdown",
   "metadata": {},
   "source": [
    "### **What are Dict and List comprehensions?**\n",
    "\n",
    "* **List Comprehensions:** A concise way to create lists using a single line of code, often involving an expression and a for loop.\n",
    "* **Dict Comprehensions:** Similar to list comprehensions, but used to create dictionaries."
   ]
  },
  {
   "cell_type": "code",
   "execution_count": 2,
   "metadata": {},
   "outputs": [
    {
     "name": "stdout",
     "output_type": "stream",
     "text": [
      "[0, 1, 4, 9, 16]\n",
      "{0: 0, 1: 1, 2: 4, 3: 9, 4: 16}\n"
     ]
    }
   ],
   "source": [
    "# List comprehension example\n",
    "my_list = [x**2 for x in range(5)]\n",
    "print(my_list)  # Output: [0, 1, 4, 9, 16]\n",
    "\n",
    "# Dict comprehension example\n",
    "my_dict = {x: x**2 for x in range(5)}\n",
    "print(my_dict)  "
   ]
  },
  {
   "cell_type": "markdown",
   "metadata": {},
   "source": [
    "### **What are decorators in Python? Explain it with an example. Write down its use cases.**\n",
    "\n",
    "* **Decorators:** A decorator is a function that takes another function and extends its behavior without explicitly modifying it."
   ]
  },
  {
   "cell_type": "code",
   "execution_count": 3,
   "metadata": {},
   "outputs": [
    {
     "name": "stdout",
     "output_type": "stream",
     "text": [
      "Something is happening before the function is called.\n",
      "Hello!\n",
      "Something is happening after the function is called.\n"
     ]
    }
   ],
   "source": [
    "def my_decorator(func):\n",
    "    def wrapper():\n",
    "        print(\"Something is happening before the function is called.\")\n",
    "        func()\n",
    "        print(\"Something is happening after the function is called.\")\n",
    "    return wrapper\n",
    "\n",
    "@my_decorator\n",
    "def say_hello():\n",
    "    print(\"Hello!\")\n",
    "\n",
    "say_hello()"
   ]
  },
  {
   "cell_type": "markdown",
   "metadata": {},
   "source": [
    "**Use Cases:**\n",
    "* Logging\n",
    "* Access control and authentication\n",
    "* Caching\n",
    "* Monitoring"
   ]
  },
  {
   "cell_type": "markdown",
   "metadata": {},
   "source": [
    "### **How is memory managed in Python?**\n",
    "\n",
    "* Python uses a combination of reference counting and garbage collection for memory management.\n",
    "* **Reference Counting:** Keeps track of the number of references to each object in memory. When an object's reference count drops to zero, it is deallocated.\n",
    "* **Garbage Collection:** A cyclic garbage collector detects and collects groups of objects involved in reference cycles.\n",
    "\n",
    "### **What is lambda in Python? Why is it used?**\n",
    "\n",
    "* **Lambda:** A lambda function is a small anonymous function defined with the lambda keyword. It can have any number of arguments but only one expression.\n",
    "* **Use Case:** Used for creating small, one-off functions without the need for formally defining a function using def."
   ]
  },
  {
   "cell_type": "code",
   "execution_count": 4,
   "metadata": {},
   "outputs": [
    {
     "name": "stdout",
     "output_type": "stream",
     "text": [
      "8\n"
     ]
    }
   ],
   "source": [
    "# Lambda function example\n",
    "add = lambda x, y: x + y\n",
    "print(add(3, 5))"
   ]
  },
  {
   "cell_type": "markdown",
   "metadata": {},
   "source": [
    "### **Explain split() and join() functions in Python.**\n",
    "\n",
    "* **split():** Splits a string into a list of substrings based on a specified delimiter."
   ]
  },
  {
   "cell_type": "code",
   "execution_count": 5,
   "metadata": {},
   "outputs": [
    {
     "name": "stdout",
     "output_type": "stream",
     "text": [
      "['Hello', 'World!']\n"
     ]
    }
   ],
   "source": [
    "text = \"Hello, World!\"\n",
    "result = text.split(\", \")\n",
    "print(result)  "
   ]
  },
  {
   "cell_type": "markdown",
   "metadata": {},
   "source": [
    "* **join():** Joins a list of strings into a single string, with each element separated by a specified delimiter."
   ]
  },
  {
   "cell_type": "code",
   "execution_count": 6,
   "metadata": {},
   "outputs": [
    {
     "name": "stdout",
     "output_type": "stream",
     "text": [
      "Hello, World!\n"
     ]
    }
   ],
   "source": [
    "words = ['Hello', 'World!']\n",
    "result = \", \".join(words)\n",
    "print(result) "
   ]
  },
  {
   "cell_type": "markdown",
   "metadata": {},
   "source": [
    "### **What are iterators, iterable & generators in Python?**\n",
    "\n",
    "* **Iterator:** An object representing a stream of data, which returns one element at a time when next() is called.\n",
    "* **Iterable:** An object capable of returning its members one at a time. Examples include lists, tuples, and strings.\n",
    "* **Generator:** A special type of iterator that is defined using a function and the yield statement."
   ]
  },
  {
   "cell_type": "code",
   "execution_count": 7,
   "metadata": {},
   "outputs": [
    {
     "name": "stdout",
     "output_type": "stream",
     "text": [
      "1\n",
      "2\n",
      "3\n"
     ]
    }
   ],
   "source": [
    "# Generator example\n",
    "def my_generator():\n",
    "    yield 1\n",
    "    yield 2\n",
    "    yield 3\n",
    "\n",
    "gen = my_generator()\n",
    "print(next(gen))  \n",
    "print(next(gen))\n",
    "print(next(gen))  "
   ]
  },
  {
   "cell_type": "markdown",
   "metadata": {},
   "source": [
    "### **What is the difference between xrange and range in Python?**\n",
    "\n",
    "* **range:** Returns a list of numbers in Python 2 or a range object in Python 3.\n",
    "* **xrange:** Returns an xrange object in Python 2, which is an iterable that generates numbers on demand (lazily)."
   ]
  },
  {
   "cell_type": "code",
   "execution_count": null,
   "metadata": {},
   "outputs": [],
   "source": [
    "# range example (Python 3)\n",
    "for i in range(5):\n",
    "    print(i)  \n",
    "\n",
    "# xrange example (Python 2)\n",
    "for i in xrange(5):\n",
    "    print(i)  "
   ]
  },
  {
   "cell_type": "markdown",
   "metadata": {},
   "source": [
    "### **Pillars of OOP (Object-Oriented Programming)**\n",
    "\n",
    "* **Encapsulation:** Bundling data and methods that operate on the data within a single unit (class).\n",
    "* **Inheritance:** Mechanism for a new class to inherit properties and behavior from an existing class.\n",
    "* **Polymorphism:** Ability to process objects differently based on their data type or class.\n",
    "* **Abstraction:** Hiding the complex implementation details and showing only the necessary features."
   ]
  },
  {
   "cell_type": "markdown",
   "metadata": {},
   "source": [
    "### **How will you check if a class is a child of another class?**"
   ]
  },
  {
   "cell_type": "code",
   "execution_count": 8,
   "metadata": {},
   "outputs": [
    {
     "name": "stdout",
     "output_type": "stream",
     "text": [
      "True\n"
     ]
    }
   ],
   "source": [
    "class Parent:\n",
    "    pass\n",
    "\n",
    "class Child(Parent):\n",
    "    pass\n",
    "\n",
    "print(issubclass(Child, Parent))"
   ]
  },
  {
   "cell_type": "markdown",
   "metadata": {},
   "source": [
    "### **How does inheritance work in Python? Explain all types of inheritance with an example.**\n",
    "\n",
    "* **Single Inheritance:** A class inherits from one superclass."
   ]
  },
  {
   "cell_type": "code",
   "execution_count": 9,
   "metadata": {},
   "outputs": [],
   "source": [
    "class Parent:\n",
    "    pass\n",
    "\n",
    "class Child(Parent):\n",
    "    pass"
   ]
  },
  {
   "cell_type": "markdown",
   "metadata": {},
   "source": [
    "* **Multiple Inheritance:** A class inherits from more than one superclass."
   ]
  },
  {
   "cell_type": "code",
   "execution_count": 10,
   "metadata": {},
   "outputs": [],
   "source": [
    "class Parent1:\n",
    "    pass\n",
    "\n",
    "class Parent2:\n",
    "    pass\n",
    "\n",
    "class Child(Parent1, Parent2):\n",
    "    pass"
   ]
  },
  {
   "cell_type": "markdown",
   "metadata": {},
   "source": [
    "* **Multilevel Inheritance:** A class inherits from a class which itself is derived from another class."
   ]
  },
  {
   "cell_type": "code",
   "execution_count": 11,
   "metadata": {},
   "outputs": [],
   "source": [
    "class Grandparent:\n",
    "    pass\n",
    "\n",
    "class Parent(Grandparent):\n",
    "    pass\n",
    "\n",
    "class Child(Parent):\n",
    "    pass"
   ]
  },
  {
   "cell_type": "markdown",
   "metadata": {},
   "source": [
    "* **Hierarchical Inheritance:** Multiple classes inherit from the same superclass."
   ]
  },
  {
   "cell_type": "code",
   "execution_count": 12,
   "metadata": {},
   "outputs": [],
   "source": [
    "class Parent:\n",
    "    pass\n",
    "\n",
    "class Child1(Parent):\n",
    "    pass\n",
    "\n",
    "class Child2(Parent):\n",
    "    pass\n"
   ]
  },
  {
   "cell_type": "markdown",
   "metadata": {},
   "source": [
    "* **Hybrid Inheritance:** A combination of two or more types of inheritance."
   ]
  },
  {
   "cell_type": "code",
   "execution_count": 13,
   "metadata": {},
   "outputs": [],
   "source": [
    "class Parent1:\n",
    "    pass\n",
    "\n",
    "class Parent2:\n",
    "    pass\n",
    "\n",
    "class Child1(Parent1, Parent2):\n",
    "    pass\n",
    "\n",
    "class GrandChild(Child1):\n",
    "    pass"
   ]
  },
  {
   "cell_type": "markdown",
   "metadata": {},
   "source": [
    "### **What is encapsulation? Explain it with an example.**\n",
    "\n",
    "* **Encapsulation:** The practice of keeping the fields within a class private, then providing access to them via public methods."
   ]
  },
  {
   "cell_type": "code",
   "execution_count": 14,
   "metadata": {},
   "outputs": [
    {
     "name": "stdout",
     "output_type": "stream",
     "text": [
      "10\n"
     ]
    }
   ],
   "source": [
    "class MyClass:\n",
    "    def __init__(self):\n",
    "        self.__private_var = 10\n",
    "\n",
    "    def get_private_var(self):\n",
    "        return self.__private_var\n",
    "\n",
    "    def set_private_var(self, value):\n",
    "        self.__private_var = value\n",
    "\n",
    "obj = MyClass()\n",
    "print(obj.get_private_var())  # Output"
   ]
  },
  {
   "cell_type": "markdown",
   "metadata": {},
   "source": [
    "### **What is polymorphism? Explain it with an example.**\n",
    "\n",
    "**Polymorphism** is a core concept in object-oriented programming that refers to the ability of different objects to respond to the same method call in a way that is specific to their type. It allows methods to be defined in a generic way, so that they can operate on objects of different classes.\n",
    "\n",
    "Polymorphism can be achieved through:\n",
    " 1. **Method Overriding:** When a subclass provides a specific implementation of a method that is already defined in its superclass.\n",
    " 2. **Method Overloading** (Not natively supported in Python): The ability to define multiple methods with the same name but different signatures.\n",
    " 3. **Duck Typing:** A concept where the type or class of an object is determined by its behavior (methods and properties) rather than its explicit inheritance from a specific class.\n",
    "\n",
    "**Example of Method Overriding (Polymorphism in Python):**"
   ]
  },
  {
   "cell_type": "code",
   "execution_count": 15,
   "metadata": {},
   "outputs": [
    {
     "name": "stdout",
     "output_type": "stream",
     "text": [
      "Woof!\n",
      "Meow!\n"
     ]
    }
   ],
   "source": [
    "class Animal:\n",
    "    def speak(self):\n",
    "        raise NotImplementedError(\"Subclass must implement abstract method\")\n",
    "\n",
    "class Dog(Animal):\n",
    "    def speak(self):\n",
    "        return \"Woof!\"\n",
    "\n",
    "class Cat(Animal):\n",
    "    def speak(self):\n",
    "        return \"Meow!\"\n",
    "\n",
    "def make_animal_speak(animal):\n",
    "    print(animal.speak())\n",
    "\n",
    "# Create instances of Dog and Cat\n",
    "dog = Dog()\n",
    "cat = Cat()\n",
    "\n",
    "# Demonstrate polymorphism\n",
    "make_animal_speak(dog)  # Output: Woof!\n",
    "make_animal_speak(cat)  # Output: Meow!"
   ]
  },
  {
   "cell_type": "markdown",
   "metadata": {},
   "source": [
    "In this example:\n",
    "* The Animal class defines an abstract method speak.\n",
    "* The Dog and Cat classes override the speak method to provide their specific implementations.\n",
    "* The make_animal_speak function takes an Animal object and calls the speak method on it, demonstrating polymorphism by invoking the method appropriate to the actual type of object passed (either Dog or Cat).\n",
    "\n",
    "This allows us to treat objects of different classes (Dog, Cat) in a uniform manner (as Animals) and rely on polymorphism to call the appropriate method implementation."
   ]
  },
  {
   "cell_type": "markdown",
   "metadata": {},
   "source": [
    "## **Solution 1.2:**"
   ]
  },
  {
   "cell_type": "markdown",
   "metadata": {},
   "source": [
    "**Valid and Invalid Identifiers**\n",
    "\n",
    "**1. Serial_no.**\n",
    "* **Invalid:** The identifier ends with a period (.), which is not allowed in Python identifiers.\n",
    "\n",
    "**2. 1st_Room**\n",
    "* **Invalid:** Identifiers cannot start with a digit (1).\n",
    "\n",
    "**3. Hundred$**\n",
    "* **Invalid:** The dollar sign ($) is not a valid character in Python identifiers.\n",
    "\n",
    "**4. Total_Marks**\n",
    "* **Valid:** This identifier follows all the rules for valid identifiers.\n",
    "\n",
    "**5. total-Marks**\n",
    "* **Invalid:** The hyphen (-) is not a valid character in Python identifiers.\n",
    "\n",
    "**6. Total Marks**\n",
    "* **Invalid:** Identifiers cannot contain spaces.\n",
    "\n",
    "**7. True**\n",
    "* **Invalid:** True is a reserved keyword in Python and cannot be used as an identifier.\n",
    "\n",
    "**8. _Percentag**\n",
    "* **Valid:** This identifier follows all the rules for valid identifiers.\n",
    "Summary of Validity"
   ]
  },
  {
   "cell_type": "markdown",
   "metadata": {},
   "source": [
    "## **Solution 1.3:**"
   ]
  },
  {
   "cell_type": "markdown",
   "metadata": {},
   "source": [
    "### **a.**"
   ]
  },
  {
   "cell_type": "code",
   "execution_count": 20,
   "metadata": {},
   "outputs": [
    {
     "name": "stdout",
     "output_type": "stream",
     "text": [
      "['freedom_fighter', 'Mohan', 'dash', 'karam', 'chandra', 'gandhi', 'Bapu']\n"
     ]
    }
   ],
   "source": [
    "name = [\"Mohan\", \"dash\", \"karam\", \"chandra\", \"gandhi\", \"Bapu\"]\n",
    "name.insert(0, \"freedom_fighter\")\n",
    "print(name)"
   ]
  },
  {
   "cell_type": "markdown",
   "metadata": {},
   "source": [
    "### **b.**\n",
    "\n",
    "**Explanation and Code:**"
   ]
  },
  {
   "cell_type": "code",
   "execution_count": 21,
   "metadata": {},
   "outputs": [
    {
     "name": "stdout",
     "output_type": "stream",
     "text": [
      "8\n"
     ]
    }
   ],
   "source": [
    "name = [\"freedomFighter\", \"Bapuji\", \"MOhan\", \"dash\", \"karam\", \"chandra\", \"gandhi\"]\n",
    "\n",
    "# Explanation of slicing\n",
    "# name[-len(name)+1:-1:2] translates to name[1:-1:2]\n",
    "# Slicing from index 1 to second last index with a step of 2\n",
    "length1 = len(name[1:-1:2])  # This gives [\"Bapuji\", \"dash\", \"chandra\"]\n",
    "\n",
    "# name[-len(name)+1:-1] translates to name[1:-1]\n",
    "# Slicing from index 1 to second last index\n",
    "length2 = len(name[1:-1])  # This gives [\"Bapuji\", \"MOhan\", \"dash\", \"karam\", \"chandra\"]\n",
    "\n",
    "# Output the sum of lengths\n",
    "print(length1 + length2)  # Output: 3 + 5 = 8"
   ]
  },
  {
   "cell_type": "markdown",
   "metadata": {},
   "source": [
    "### **C.**"
   ]
  },
  {
   "cell_type": "code",
   "execution_count": 22,
   "metadata": {},
   "outputs": [
    {
     "name": "stdout",
     "output_type": "stream",
     "text": [
      "['Mohan', 'dash', 'karam', 'chandra', 'gandhi', 'Bapu', 'NetaJi', 'Bose']\n"
     ]
    }
   ],
   "source": [
    "name = [\"Mohan\", \"dash\", \"karam\", \"chandra\", \"gandhi\", \"Bapu\"]\n",
    "name.extend([\"NetaJi\", \"Bose\"])\n",
    "print(name)"
   ]
  },
  {
   "cell_type": "markdown",
   "metadata": {},
   "source": [
    "### **d.**\n",
    "\n",
    "**Explanation and Code:**"
   ]
  },
  {
   "cell_type": "code",
   "execution_count": 23,
   "metadata": {},
   "outputs": [
    {
     "name": "stdout",
     "output_type": "stream",
     "text": [
      "['Mohan', 'dash', 'karam', 'chandra', 'gandi', 'Bapuji']\n",
      "Mohan\n"
     ]
    }
   ],
   "source": [
    "name = [\"Bapuji\", \"dash\", \"karam\", \"chandra\", \"gandi\", \"Mohan\"]\n",
    "\n",
    "# Storing the last element in temp\n",
    "temp = name[-1]  # temp = \"Mohan\"\n",
    "\n",
    "# Swapping the first and last elements\n",
    "name[-1] = name[0]  # name[-1] becomes \"Bapuji\"\n",
    "name[0] = temp  # name[0] becomes \"Mohan\"\n",
    "\n",
    "print(name)  # Output: ['Mohan', 'dash', 'karam', 'chandra', 'gandi', 'Bapuji']\n",
    "print(temp)  # Output: \"Mohan\""
   ]
  },
  {
   "cell_type": "markdown",
   "metadata": {},
   "source": [
    "## **Solution 1.4:**"
   ]
  },
  {
   "cell_type": "code",
   "execution_count": 24,
   "metadata": {},
   "outputs": [
    {
     "name": "stdout",
     "output_type": "stream",
     "text": [
      "2\n",
      "4\n",
      "7\n"
     ]
    }
   ],
   "source": [
    "animal = ['Human', 'cat', 'mat', 'cat', 'rat', 'Human', 'Lion']\n",
    "\n",
    "print(animal.count('Human'))  # Output: 2\n",
    "print(animal.index('rat'))    # Output: 4\n",
    "print(len(animal))            # Output: 7"
   ]
  },
  {
   "cell_type": "markdown",
   "metadata": {},
   "source": [
    "## **Solution 1.5:**"
   ]
  },
  {
   "cell_type": "code",
   "execution_count": 27,
   "metadata": {},
   "outputs": [
    {
     "name": "stdout",
     "output_type": "stream",
     "text": [
      "8\n",
      "Navneet\n",
      "N1\n",
      "ji\n",
      "22\n"
     ]
    }
   ],
   "source": [
    "tuple1 = (10, 20, \"Apple\", 3.4, 'a', [\"master\", \"ji\"], (\"sita\", \"geeta\", 22), [{\"roll_no\": \"N1\"}, {\"name\": \"Navneet\"}])\n",
    "\n",
    "# a) Print the length of the tuple\n",
    "print(len(tuple1))  # Output: 8\n",
    "\n",
    "# b) Print the value associated with the key \"name\" from the last element of the tuple\n",
    "print(tuple1[-1][-1][\"name\"])  # Output: Navneet\n",
    "\n",
    "# c) Fetch the value of roll_no from the tuple\n",
    "roll_no_value = tuple1[-1][0][\"roll_no\"]\n",
    "print(roll_no_value)  # Output: N1\n",
    "\n",
    "# d) Print the second element of the tuple located at index -3\n",
    "print(tuple1[-3][1])  # Output: geeta\n",
    "\n",
    "# e) Fetch the element \"22\" from the tuple\n",
    "element_22 = tuple1[-2][2]\n",
    "print(element_22)  # Output: 22"
   ]
  },
  {
   "cell_type": "markdown",
   "metadata": {},
   "source": [
    "## **Solution 1.6.**"
   ]
  },
  {
   "cell_type": "code",
   "execution_count": 39,
   "metadata": {},
   "outputs": [
    {
     "name": "stdout",
     "output_type": "stream",
     "text": [
      "Stop\n"
     ]
    }
   ],
   "source": [
    "# Program to display the appropriate message as per the color of the signal at the road crossing.\n",
    "def traffic_signal(signal_color):\n",
    "    if signal_color.lower() == 'red':\n",
    "        print('Stop')\n",
    "    elif signal_color.lower() == 'yellow':\n",
    "        print('Stay')\n",
    "    elif signal_color.lower() == 'green':\n",
    "        print(\"Go\")\n",
    "    else:\n",
    "        print(\"Invalid color\")\n",
    "\n",
    "# Example usage\n",
    "signal_color = input(\"Enter the traffic signal color (RED/YELLOW/GREEN): \")\n",
    "traffic_signal(signal_color)"
   ]
  },
  {
   "cell_type": "markdown",
   "metadata": {},
   "source": [
    "## **Solution 1.7.**"
   ]
  },
  {
   "cell_type": "code",
   "execution_count": 28,
   "metadata": {},
   "outputs": [
    {
     "name": "stdout",
     "output_type": "stream",
     "text": [
      "Simple Calculator\n",
      "Select operation:\n",
      "1. Add (+)\n",
      "2. Subtract (-)\n",
      "3. Multiply (*)\n",
      "4. Divide (/)\n",
      "2.0 + 3.0 = 5.0\n"
     ]
    }
   ],
   "source": [
    "# Function to add two numbers\n",
    "def add(x, y):\n",
    "    return x + y\n",
    "\n",
    "# Function to subtract two numbers\n",
    "def subtract(x, y):\n",
    "    return x - y\n",
    "\n",
    "# Function to multiply two numbers\n",
    "def multiply(x, y):\n",
    "    return x * y\n",
    "\n",
    "# Function to divide two numbers\n",
    "def divide(x, y):\n",
    "    if y == 0:\n",
    "        return \"Error! Division by zero.\"\n",
    "    else:\n",
    "        return x / y\n",
    "\n",
    "def calculator():\n",
    "    print(\"Simple Calculator\")\n",
    "    print(\"Select operation:\")\n",
    "    print(\"1. Add (+)\")\n",
    "    print(\"2. Subtract (-)\")\n",
    "    print(\"3. Multiply (*)\")\n",
    "    print(\"4. Divide (/)\")\n",
    "\n",
    "    # Take input from the user\n",
    "    choice = input(\"Enter choice(+, -, *, /): \")\n",
    "\n",
    "    if choice in ('+', '-', '*', '/'):\n",
    "        num1 = float(input(\"Enter first number: \"))\n",
    "        num2 = float(input(\"Enter second number: \"))\n",
    "\n",
    "        if choice == '+':\n",
    "            print(f\"{num1} + {num2} = {add(num1, num2)}\")\n",
    "        elif choice == '-':\n",
    "            print(f\"{num1} - {num2} = {subtract(num1, num2)}\")\n",
    "        elif choice == '*':\n",
    "            print(f\"{num1} * {num2} = {multiply(num1, num2)}\")\n",
    "        elif choice == '/':\n",
    "            print(f\"{num1} / {num2} = {divide(num1, num2)}\")\n",
    "    else:\n",
    "        print(\"Invalid Input\")\n",
    "\n",
    "# Run the calculator\n",
    "calculator()"
   ]
  },
  {
   "cell_type": "markdown",
   "metadata": {},
   "source": [
    "## **Solution 1.8.**"
   ]
  },
  {
   "cell_type": "code",
   "execution_count": 45,
   "metadata": {},
   "outputs": [
    {
     "name": "stdout",
     "output_type": "stream",
     "text": [
      "The largest number is: 20\n"
     ]
    }
   ],
   "source": [
    "# Pre-specified numbers\n",
    "a = 10\n",
    "b = 20\n",
    "c = 15\n",
    "\n",
    "# Using ternary operators\n",
    "largest = a if (a > b and a > c) else (b if b > c else c)\n",
    "print(f\"The largest number is: {largest}\")"
   ]
  },
  {
   "cell_type": "markdown",
   "metadata": {},
   "source": [
    "## **Solution 1.9.**"
   ]
  },
  {
   "cell_type": "code",
   "execution_count": 48,
   "metadata": {},
   "outputs": [
    {
     "name": "stdout",
     "output_type": "stream",
     "text": [
      "The factors of (number) are: [1, 3]\n"
     ]
    }
   ],
   "source": [
    "def find_factors(number):\n",
    "    i = 1\n",
    "    factors = []\n",
    "    while i <= number:\n",
    "        if number % i == 0:\n",
    "            factors.append(i)\n",
    "        i += 1\n",
    "    \n",
    "    return factors\n",
    "\n",
    "# Example usage\n",
    "number = int(input(\"Enter a whole number to find its factors: \"))\n",
    "factors = find_factors(number)\n",
    "print(f\"The factors of (number) are: {factors}\")"
   ]
  },
  {
   "cell_type": "markdown",
   "metadata": {},
   "source": [
    "## **Solution 1.10.**"
   ]
  },
  {
   "cell_type": "code",
   "execution_count": 49,
   "metadata": {},
   "outputs": [
    {
     "name": "stdout",
     "output_type": "stream",
     "text": [
      "The sum of all positive numbers entered is: 10.0\n"
     ]
    }
   ],
   "source": [
    "# Program to find the sum of all positive numbers entered by the used until a negative number is entered.\n",
    "def sum_positive_numbers():\n",
    "    total_sum = 0\n",
    "    while True:\n",
    "        number = float(input(\"Enter a number: \"))\n",
    "        if number < 0:\n",
    "            break\n",
    "        total_sum += number\n",
    "    print(f\"The sum of all positive numbers entered is: {total_sum}\")\n",
    "\n",
    "# Driver code\n",
    "sum_positive_numbers()"
   ]
  },
  {
   "cell_type": "markdown",
   "metadata": {},
   "source": [
    "## **Solution 1.11.**"
   ]
  },
  {
   "cell_type": "code",
   "execution_count": 53,
   "metadata": {},
   "outputs": [
    {
     "name": "stdout",
     "output_type": "stream",
     "text": [
      "2 3 5 7 11 13 17 19 23 29 31 37 41 43 47 53 59 61 67 71 73 79 83 89 97 "
     ]
    }
   ],
   "source": [
    "# Program to find prime numbers between 2 to 100 using nested for loops.\n",
    "def find_primes():\n",
    "    for num in range(2, 101):\n",
    "        is_prime = True\n",
    "        for i in range(2, int(num ** 0.5) + 1):\n",
    "            if num % i == 0:\n",
    "                is_prime = False\n",
    "                break\n",
    "        if is_prime:\n",
    "            print(num, end=' ')\n",
    "\n",
    "# Driver code\n",
    "find_primes()"
   ]
  },
  {
   "cell_type": "markdown",
   "metadata": {},
   "source": [
    "## **Solution 1.12.**"
   ]
  },
  {
   "cell_type": "code",
   "execution_count": 11,
   "metadata": {},
   "outputs": [
    {
     "name": "stdout",
     "output_type": "stream",
     "text": [
      "Marks entered:\n",
      "Subject 1: 78.0\n",
      "Subject 2: 75.0\n",
      "Subject 3: 90.0\n",
      "Subject 4: 90.0\n",
      "Subject 5: 98.0\n",
      "\n",
      "Total Marks: 431.0\n",
      "Percentage: 86.20%\n",
      "Grade: A\n"
     ]
    }
   ],
   "source": [
    "def get_marks():\n",
    "    marks = []\n",
    "    for i in range(1, 6):\n",
    "        while True:\n",
    "            try:\n",
    "                mark = float(input(f\"Enter the marks for subject {i}: \"))\n",
    "                if 0 <= mark <= 100:\n",
    "                    marks.append(mark)\n",
    "                    break\n",
    "                else:\n",
    "                    print(\"Please enter marks between 0 and 100.\")\n",
    "            except ValueError:\n",
    "                print(\"Invalid input. Please enter a number.\")\n",
    "    return marks\n",
    "\n",
    "\n",
    "def calculate_percentage(marks):\n",
    "    total_marks = sum(marks)\n",
    "    percentage = total_marks / len(marks)\n",
    "    return total_marks, percentage\n",
    "\n",
    "def determine_grade(percentage):\n",
    "    match percentage:\n",
    "        case p if p > 85:\n",
    "            return 'A'\n",
    "        case p if 75 <= p < 85:\n",
    "            return 'B'\n",
    "        case p if 50 <= p < 75:\n",
    "            return 'C'\n",
    "        case p if 30 <= p < 50:\n",
    "            return 'D'\n",
    "        case p if p < 30:\n",
    "            return 'Reappear'\n",
    "\n",
    "def main():\n",
    "    marks = get_marks()\n",
    "    total_marks, percentage = calculate_percentage(marks)\n",
    "\n",
    "    print(\"Marks entered:\")\n",
    "    for i, mark in enumerate(marks, start=1):\n",
    "        print(f\"Subject {i}: {mark}\")\n",
    "    \n",
    "    print(f\"\\nTotal Marks: {total_marks}\")\n",
    "    print(f\"Percentage: {percentage:.2f}%\")\n",
    "\n",
    "    grade = determine_grade(percentage)\n",
    "    print(f\"Grade: {grade}\")\n",
    "\n",
    "if __name__ == '__main__':\n",
    "    main()"
   ]
  },
  {
   "cell_type": "markdown",
   "metadata": {},
   "source": [
    "## **Solution 1.3.**"
   ]
  },
  {
   "cell_type": "code",
   "execution_count": 61,
   "metadata": {},
   "outputs": [
    {
     "name": "stdout",
     "output_type": "stream",
     "text": [
      "Green\n"
     ]
    }
   ],
   "source": [
    "# Program for VIBGYOR spectrum based on their Wavelength using.\n",
    "def spectrum():\n",
    "    # Continuously prompt the user to enter a wavelength within the specified range.\n",
    "    while True:\n",
    "        try:\n",
    "            wave_len = float(input(\"Enter Wavelength (400 to 720)nm: \"))\n",
    "            if 400 <= wave_len <= 720:\n",
    "                break  # Exit the loop if a valid wavelength is entered.\n",
    "            else:\n",
    "                print(\"Please enter wavelength in range (400 to 720)nm\")\n",
    "        except ValueError:\n",
    "            print(\"Invalid input. Please enter a number.\")\n",
    "\n",
    "    # Determine the color based on the wavelength using match-case.\n",
    "    match wave_len:\n",
    "        case p if 400 <= p <= 440:\n",
    "            return 'Violet'\n",
    "        case p if 440 < p <= 460:\n",
    "            return 'Indigo'\n",
    "        case p if 460 < p <= 500:\n",
    "            return 'Blue'\n",
    "        case p if 500 < p <= 570:\n",
    "            return 'Green'\n",
    "        case p if 570 < p <= 590:\n",
    "            return 'Yellow'\n",
    "        case p if 590 < p <= 620:\n",
    "            return 'Orange'\n",
    "        case p if 620 < p <= 720:\n",
    "            return 'Red'\n",
    "\n",
    "# Driver code to run the spectrum function and display the result.\n",
    "print(spectrum())"
   ]
  },
  {
   "cell_type": "markdown",
   "metadata": {},
   "source": [
    "## **Solution 1.14.**"
   ]
  },
  {
   "cell_type": "code",
   "execution_count": 12,
   "metadata": {},
   "outputs": [
    {
     "name": "stdout",
     "output_type": "stream",
     "text": [
      "Gravitational force between Earth and Sun: 3.54e+22 N\n",
      "Gravitational force between Moon and Earth: 1.98e+20 N\n",
      "The gravitational force between the Earth and Sun is stronger by a factor of 178.73 compared to the Moon and Earth.\n"
     ]
    }
   ],
   "source": [
    "# Constants\n",
    "G = 6.67430e-11  # Gravitational constant in m^3 kg^-1 s^-2\n",
    "mass_earth = 5.972e24  # Mass of Earth in kg\n",
    "mass_moon = 7.34767309e22  # Mass of Moon in kg\n",
    "mass_sun = 1.989e30  # Mass of Sun in kg\n",
    "distance_earth_sun = 1.496e11  # Distance between Earth and Sun in meters\n",
    "distance_moon_earth = 3.844e8  # Distance between Moon and Earth in meters\n",
    "\n",
    "# Function to calculate gravitational force\n",
    "def calculate_gravitational_force(m1, m2, distance):\n",
    "    return G * (m1 * m2) / (distance ** 2)\n",
    "\n",
    "# Calculate gravitational force between Earth and Sun\n",
    "F_earth_sun = calculate_gravitational_force(mass_earth, mass_sun, distance_earth_sun)\n",
    "\n",
    "# Calculate gravitational force between Moon and Earth\n",
    "F_moon_earth = calculate_gravitational_force(mass_moon, mass_earth, distance_moon_earth)\n",
    "\n",
    "# Compare the forces\n",
    "def compare_forces(F1, F2):\n",
    "    if F1 > F2:\n",
    "        stronger_force = \"Earth and Sun\"\n",
    "        weaker_force = \"Moon and Earth\"\n",
    "        factor = F1 / F2\n",
    "    else:\n",
    "        stronger_force = \"Moon and Earth\"\n",
    "        weaker_force = \"Earth and Sun\"\n",
    "        factor = F2 / F1\n",
    "    return stronger_force, weaker_force, factor\n",
    "\n",
    "# Compare the gravitational forces\n",
    "stronger_force, weaker_force, factor = compare_forces(F_earth_sun, F_moon_earth)\n",
    "\n",
    "# Output the results\n",
    "print(f\"Gravitational force between Earth and Sun: {F_earth_sun:.2e} N\")\n",
    "print(f\"Gravitational force between Moon and Earth: {F_moon_earth:.2e} N\")\n",
    "print(f\"The gravitational force between the {stronger_force} is stronger by a factor of {factor:.2f} compared to the {weaker_force}.\")\n"
   ]
  },
  {
   "cell_type": "markdown",
   "metadata": {},
   "source": [
    "## **Solution 2.**"
   ]
  },
  {
   "cell_type": "code",
   "execution_count": 3,
   "metadata": {},
   "outputs": [
    {
     "name": "stdout",
     "output_type": "stream",
     "text": [
      "Name: Alice, Age: 20, Roll Number: S101\n",
      "Name: Bob, Age: 22, Roll Number: S102\n",
      "Name: Alicia, Age: 21, Roll Number: S101\n",
      "Name: Bob, Age: 22, Roll Number: S202\n"
     ]
    }
   ],
   "source": [
    "class Student:\n",
    "    def __init__(self, name, age, roll_number):\n",
    "        self.__name = name\n",
    "        self.__age = age\n",
    "        self.__roll_number = roll_number\n",
    "\n",
    "    # Getter methods\n",
    "    def get_name(self):\n",
    "        return self.__name\n",
    "\n",
    "    def get_age(self):\n",
    "        return self.__age\n",
    "\n",
    "    def get_roll_number(self):\n",
    "        return self.__roll_number\n",
    "\n",
    "    # Setter methods\n",
    "    def set_name(self, name):\n",
    "        self.__name = name\n",
    "\n",
    "    def set_age(self, age):\n",
    "        self.__age = age\n",
    "\n",
    "    def set_roll_number(self, roll_number):\n",
    "        self.__roll_number = roll_number\n",
    "\n",
    "    # Method to display student information\n",
    "    def display_info(self):\n",
    "        print(f\"Name: {self.__name}, Age: {self.__age}, Roll Number: {self.__roll_number}\")\n",
    "\n",
    "    # Method to update student details\n",
    "    def update_details(self, name=None, age=None, roll_number=None):\n",
    "        if name:\n",
    "            self.__name = name\n",
    "        if age:\n",
    "            self.__age = age\n",
    "        if roll_number:\n",
    "            self.__roll_number = roll_number\n",
    "\n",
    "# Testing the Student class\n",
    "if __name__ == \"__main__\":\n",
    "    # Create instances of the Student class\n",
    "    student1 = Student(\"Alice\", 20, \"S101\")\n",
    "    student2 = Student(\"Bob\", 22, \"S102\")\n",
    "\n",
    "    # Display student information\n",
    "    student1.display_info()\n",
    "    student2.display_info()\n",
    "\n",
    "    # Update student details\n",
    "    student1.update_details(name=\"Alicia\", age=21)\n",
    "    student2.update_details(roll_number=\"S202\")\n",
    "\n",
    "    # Display updated student information\n",
    "    student1.display_info()\n",
    "    student2.display_info()\n"
   ]
  },
  {
   "cell_type": "markdown",
   "metadata": {},
   "source": [
    "## **Solution 3.**"
   ]
  },
  {
   "cell_type": "code",
   "execution_count": 2,
   "metadata": {},
   "outputs": [
    {
     "name": "stdout",
     "output_type": "stream",
     "text": [
      "Book Name: 1984, Author: George Orwell, Status: Available\n",
      "Book Name: To Kill a Mockingbird, Author: Harper Lee, Status: Available\n",
      "The book '1984' has been borrowed.\n",
      "Sorry, the book '1984' is currently not available.\n",
      "The book '1984' has been returned.\n",
      "The book '1984' was not borrowed.\n",
      "The book 'To Kill a Mockingbird' has been borrowed.\n",
      "The book 'To Kill a Mockingbird' has been returned.\n",
      "Book Name: 1984, Author: George Orwell, Status: Available\n",
      "Book Name: To Kill a Mockingbird, Author: Harper Lee, Status: Available\n"
     ]
    }
   ],
   "source": [
    "class LibraryBook:\n",
    "    def __init__(self, book_name, author):\n",
    "        self.__book_name = book_name\n",
    "        self.__author = author\n",
    "        self.__is_available = True\n",
    "\n",
    "    # Getter methods\n",
    "    def get_book_name(self):\n",
    "        return self.__book_name\n",
    "\n",
    "    def get_author(self):\n",
    "        return self.__author\n",
    "\n",
    "    def is_available(self):\n",
    "        return self.__is_available\n",
    "\n",
    "    # Method to borrow the book\n",
    "    def borrow_book(self):\n",
    "        if self.__is_available:\n",
    "            self.__is_available = False\n",
    "            print(f\"The book '{self.__book_name}' has been borrowed.\")\n",
    "        else:\n",
    "            print(f\"Sorry, the book '{self.__book_name}' is currently not available.\")\n",
    "\n",
    "    # Method to return the book\n",
    "    def return_book(self):\n",
    "        if not self.__is_available:\n",
    "            self.__is_available = True\n",
    "            print(f\"The book '{self.__book_name}' has been returned.\")\n",
    "        else:\n",
    "            print(f\"The book '{self.__book_name}' was not borrowed.\")\n",
    "\n",
    "    # Method to display book information\n",
    "    def display_info(self):\n",
    "        availability = \"Available\" if self.__is_available else \"Not Available\"\n",
    "        print(f\"Book Name: {self.__book_name}, Author: {self.__author}, Status: {availability}\")\n",
    "\n",
    "# Testing the LibraryBook class\n",
    "if __name__ == \"__main__\":\n",
    "    # Create instances of the LibraryBook class\n",
    "    book1 = LibraryBook(\"1984\", \"George Orwell\")\n",
    "    book2 = LibraryBook(\"To Kill a Mockingbird\", \"Harper Lee\")\n",
    "\n",
    "    # Display book information\n",
    "    book1.display_info()\n",
    "    book2.display_info()\n",
    "\n",
    "    # Borrow and return books\n",
    "    book1.borrow_book()\n",
    "    book1.borrow_book()  # Try to borrow again to check availability\n",
    "    book1.return_book()\n",
    "    book1.return_book()  # Try to return again to check status\n",
    "\n",
    "    book2.borrow_book()\n",
    "    book2.return_book()\n",
    "\n",
    "    # Display book information after operations\n",
    "    book1.display_info()\n",
    "    book2.display_info()\n"
   ]
  },
  {
   "cell_type": "markdown",
   "metadata": {},
   "source": [
    "## **Solution 4.**"
   ]
  },
  {
   "cell_type": "code",
   "execution_count": 4,
   "metadata": {},
   "outputs": [
    {
     "name": "stdout",
     "output_type": "stream",
     "text": [
      "Deposited $200 to account SA123. New balance: $1200\n",
      "Withdrew $50 from account SA123. New balance: $1150\n",
      "Account SA123 balance: $1150\n",
      "Deposited $11.5 to account SA123. New balance: $1161.5\n",
      "Applied interest to account SA123. Interest amount: $11.5\n",
      "Account SA123 balance: $1161.5\n",
      "Deposited $300 to account CA456. New balance: $800\n",
      "Withdrew $1000 from account CA456. New balance: $-200\n",
      "Withdrew $100 from account CA456. New balance: $-300\n",
      "Account CA456 balance: $-300\n"
     ]
    }
   ],
   "source": [
    "class BankAccount:\n",
    "    def __init__(self, account_number, balance=0):\n",
    "        self.account_number = account_number\n",
    "        self.balance = balance\n",
    "\n",
    "    def deposit(self, amount):\n",
    "        if amount > 0:\n",
    "            self.balance += amount\n",
    "            print(f\"Deposited ${amount} to account {self.account_number}. New balance: ${self.balance}\")\n",
    "        else:\n",
    "            print(\"Deposit amount must be positive.\")\n",
    "\n",
    "    def withdraw(self, amount):\n",
    "        if amount > 0 and amount <= self.balance:\n",
    "            self.balance -= amount\n",
    "            print(f\"Withdrew ${amount} from account {self.account_number}. New balance: ${self.balance}\")\n",
    "        else:\n",
    "            print(\"Withdrawal amount must be positive and less than or equal to the current balance.\")\n",
    "\n",
    "    def inquiry(self):\n",
    "        print(f\"Account {self.account_number} balance: ${self.balance}\")\n",
    "\n",
    "class SavingsAccount(BankAccount):\n",
    "    def __init__(self, account_number, balance=0, interest_rate=0.01):\n",
    "        super().__init__(account_number, balance)\n",
    "        self.interest_rate = interest_rate\n",
    "\n",
    "    def apply_interest(self):\n",
    "        interest = self.balance * self.interest_rate\n",
    "        self.deposit(interest)\n",
    "        print(f\"Applied interest to account {self.account_number}. Interest amount: ${interest}\")\n",
    "\n",
    "class CheckingAccount(BankAccount):\n",
    "    def __init__(self, account_number, balance=0, overdraft_limit=500):\n",
    "        super().__init__(account_number, balance)\n",
    "        self.overdraft_limit = overdraft_limit\n",
    "\n",
    "    def withdraw(self, amount):\n",
    "        if amount > 0 and amount <= self.balance + self.overdraft_limit:\n",
    "            self.balance -= amount\n",
    "            print(f\"Withdrew ${amount} from account {self.account_number}. New balance: ${self.balance}\")\n",
    "        else:\n",
    "            print(\"Withdrawal amount must be positive and within the overdraft limit.\")\n",
    "\n",
    "# Testing the banking system\n",
    "if __name__ == \"__main__\":\n",
    "    # Create instances of SavingsAccount and CheckingAccount\n",
    "    savings = SavingsAccount(\"SA123\", 1000)\n",
    "    checking = CheckingAccount(\"CA456\", 500)\n",
    "\n",
    "    # Perform transactions\n",
    "    savings.deposit(200)\n",
    "    savings.withdraw(50)\n",
    "    savings.inquiry()\n",
    "    savings.apply_interest()\n",
    "    savings.inquiry()\n",
    "\n",
    "    checking.deposit(300)\n",
    "    checking.withdraw(1000)\n",
    "    checking.withdraw(100)\n",
    "    checking.inquiry()\n"
   ]
  },
  {
   "cell_type": "markdown",
   "metadata": {},
   "source": [
    "## **Solution 5.**"
   ]
  },
  {
   "cell_type": "code",
   "execution_count": 5,
   "metadata": {},
   "outputs": [
    {
     "name": "stdout",
     "output_type": "stream",
     "text": [
      "Woof! Woof!\n",
      "Meow! Meow!\n"
     ]
    }
   ],
   "source": [
    "class Animal:\n",
    "    def make_sound(self):\n",
    "        raise NotImplementedError(\"Subclasses must implement this method\")\n",
    "\n",
    "class Dog(Animal):\n",
    "    def make_sound(self):\n",
    "        print(\"Woof! Woof!\")\n",
    "\n",
    "class Cat(Animal):\n",
    "    def make_sound(self):\n",
    "        print(\"Meow! Meow!\")\n",
    "\n",
    "# Testing the program\n",
    "if __name__ == \"__main__\":\n",
    "    # Create instances of Dog and Cat\n",
    "    dog = Dog()\n",
    "    cat = Cat()\n",
    "\n",
    "    # Call the make_sound() method for each instance\n",
    "    dog.make_sound()  # Output: Woof! Woof!\n",
    "    cat.make_sound()  # Output: Meow! Meow!\n"
   ]
  },
  {
   "cell_type": "markdown",
   "metadata": {},
   "source": [
    "## **Solution 6.**"
   ]
  },
  {
   "cell_type": "code",
   "execution_count": 6,
   "metadata": {},
   "outputs": [
    {
     "name": "stdout",
     "output_type": "stream",
     "text": [
      "Added item: Burger\n",
      "Added item: Salad\n",
      "Added item: Coke\n",
      "Added item: Coffee\n",
      "\n",
      "Current Menu:\n",
      "ID: 1, Name: Burger, Description: A delicious beef burger, Price: $5.99, Category: Food\n",
      "Food Type: Main Course\n",
      "ID: 2, Name: Salad, Description: A fresh garden salad, Price: $4.99, Category: Food\n",
      "Food Type: Appetizer\n",
      "ID: 3, Name: Coke, Description: A refreshing soda, Price: $1.99, Category: Beverage\n",
      "Beverage Size: Large\n",
      "ID: 4, Name: Coffee, Description: A hot cup of coffee, Price: $2.49, Category: Beverage\n",
      "Beverage Size: Medium\n",
      "Updated item with ID: 1\n",
      "\n",
      "Updated Menu:\n",
      "ID: 1, Name: Burger, Description: A delicious beef burger with cheese, Price: $6.49, Category: Food\n",
      "Food Type: Main Course\n",
      "ID: 2, Name: Salad, Description: A fresh garden salad, Price: $4.99, Category: Food\n",
      "Food Type: Appetizer\n",
      "ID: 3, Name: Coke, Description: A refreshing soda, Price: $1.99, Category: Beverage\n",
      "Beverage Size: Large\n",
      "ID: 4, Name: Coffee, Description: A hot cup of coffee, Price: $2.49, Category: Beverage\n",
      "Beverage Size: Medium\n",
      "Removed item with ID: 4\n",
      "\n",
      "Menu After Removal:\n",
      "ID: 1, Name: Burger, Description: A delicious beef burger with cheese, Price: $6.49, Category: Food\n",
      "Food Type: Main Course\n",
      "ID: 2, Name: Salad, Description: A fresh garden salad, Price: $4.99, Category: Food\n",
      "Food Type: Appetizer\n",
      "ID: 3, Name: Coke, Description: A refreshing soda, Price: $1.99, Category: Beverage\n",
      "Beverage Size: Large\n"
     ]
    }
   ],
   "source": [
    "class MenuItem:\n",
    "    __id_counter = 1\n",
    "\n",
    "    def __init__(self, name, description, price, category):\n",
    "        self.__id = MenuItem.__id_counter\n",
    "        MenuItem.__id_counter += 1\n",
    "        self.name = name\n",
    "        self.description = description\n",
    "        self.price = price\n",
    "        self.category = category\n",
    "\n",
    "    # Getter for the unique identification number\n",
    "    def get_id(self):\n",
    "        return self.__id\n",
    "\n",
    "    # Method to display menu item information\n",
    "    def display_info(self):\n",
    "        print(f\"ID: {self.__id}, Name: {self.name}, Description: {self.description}, Price: ${self.price}, Category: {self.category}\")\n",
    "\n",
    "class Menu:\n",
    "    def __init__(self):\n",
    "        self.items = []\n",
    "\n",
    "    def add_item(self, item):\n",
    "        self.items.append(item)\n",
    "        print(f\"Added item: {item.name}\")\n",
    "\n",
    "    def update_item(self, item_id, name=None, description=None, price=None, category=None):\n",
    "        for item in self.items:\n",
    "            if item.get_id() == item_id:\n",
    "                if name:\n",
    "                    item.name = name\n",
    "                if description:\n",
    "                    item.description = description\n",
    "                if price:\n",
    "                    item.price = price\n",
    "                if category:\n",
    "                    item.category = category\n",
    "                print(f\"Updated item with ID: {item_id}\")\n",
    "                return\n",
    "        print(f\"Item with ID: {item_id} not found.\")\n",
    "\n",
    "    def remove_item(self, item_id):\n",
    "        for item in self.items:\n",
    "            if item.get_id() == item_id:\n",
    "                self.items.remove(item)\n",
    "                print(f\"Removed item with ID: {item_id}\")\n",
    "                return\n",
    "        print(f\"Item with ID: {item_id} not found.\")\n",
    "\n",
    "    def display_menu(self):\n",
    "        for item in self.items:\n",
    "            item.display_info()\n",
    "\n",
    "class FoodItem(MenuItem):\n",
    "    def __init__(self, name, description, price, food_type):\n",
    "        super().__init__(name, description, price, \"Food\")\n",
    "        self.food_type = food_type\n",
    "\n",
    "    def display_info(self):\n",
    "        super().display_info()\n",
    "        print(f\"Food Type: {self.food_type}\")\n",
    "\n",
    "class BeverageItem(MenuItem):\n",
    "    def __init__(self, name, description, price, beverage_size):\n",
    "        super().__init__(name, description, price, \"Beverage\")\n",
    "        self.beverage_size = beverage_size\n",
    "\n",
    "    def display_info(self):\n",
    "        super().display_info()\n",
    "        print(f\"Beverage Size: {self.beverage_size}\")\n",
    "\n",
    "# Testing the Restaurant Management System\n",
    "if __name__ == \"__main__\":\n",
    "    # Create a menu\n",
    "    menu = Menu()\n",
    "\n",
    "    # Add food items\n",
    "    food1 = FoodItem(\"Burger\", \"A delicious beef burger\", 5.99, \"Main Course\")\n",
    "    food2 = FoodItem(\"Salad\", \"A fresh garden salad\", 4.99, \"Appetizer\")\n",
    "    menu.add_item(food1)\n",
    "    menu.add_item(food2)\n",
    "\n",
    "    # Add beverage items\n",
    "    beverage1 = BeverageItem(\"Coke\", \"A refreshing soda\", 1.99, \"Large\")\n",
    "    beverage2 = BeverageItem(\"Coffee\", \"A hot cup of coffee\", 2.49, \"Medium\")\n",
    "    menu.add_item(beverage1)\n",
    "    menu.add_item(beverage2)\n",
    "\n",
    "    # Display menu\n",
    "    print(\"\\nCurrent Menu:\")\n",
    "    menu.display_menu()\n",
    "\n",
    "    # Update an item\n",
    "    menu.update_item(food1.get_id(), price=6.49, description=\"A delicious beef burger with cheese\")\n",
    "\n",
    "    # Display updated menu\n",
    "    print(\"\\nUpdated Menu:\")\n",
    "    menu.display_menu()\n",
    "\n",
    "    # Remove an item\n",
    "    menu.remove_item(beverage2.get_id())\n",
    "\n",
    "    # Display menu after removal\n",
    "    print(\"\\nMenu After Removal:\")\n",
    "    menu.display_menu()\n"
   ]
  },
  {
   "cell_type": "markdown",
   "metadata": {},
   "source": [
    "## **Solution 7.**"
   ]
  },
  {
   "cell_type": "code",
   "execution_count": 7,
   "metadata": {},
   "outputs": [
    {
     "name": "stdout",
     "output_type": "stream",
     "text": [
      "ID: 1, Room Number: 101, Room Type: Suite, Rate: $250/night, Availability: Available\n",
      "Suite Features: ['King Bed', 'Jacuzzi', 'Sea View']\n",
      "ID: 2, Room Number: 102, Room Type: Standard, Rate: $100/night, Availability: Available\n",
      "Bed Type: Queen Bed\n",
      "Room 101 has been booked.\n",
      "Room 102 has been booked.\n",
      "Room 101 is already booked.\n",
      "Guest has checked into room 101.\n",
      "Guest has checked into room 102.\n",
      "Guest has checked out of room 101.\n",
      "Guest has checked out of room 102.\n",
      "ID: 1, Room Number: 101, Room Type: Suite, Rate: $250/night, Availability: Available\n",
      "Suite Features: ['King Bed', 'Jacuzzi', 'Sea View']\n",
      "ID: 2, Room Number: 102, Room Type: Standard, Rate: $100/night, Availability: Available\n",
      "Bed Type: Queen Bed\n"
     ]
    }
   ],
   "source": [
    "class Room:\n",
    "    __id_counter = 1\n",
    "\n",
    "    def __init__(self, room_number, room_type, rate):\n",
    "        self.__id = Room.__id_counter\n",
    "        Room.__id_counter += 1\n",
    "        self.room_number = room_number\n",
    "        self.room_type = room_type\n",
    "        self.rate = rate\n",
    "        self.__is_available = True\n",
    "\n",
    "    # Getter for the unique identification number\n",
    "    def get_id(self):\n",
    "        return self.__id\n",
    "\n",
    "    # Method to display room information\n",
    "    def display_info(self):\n",
    "        availability = \"Available\" if self.__is_available else \"Not Available\"\n",
    "        print(f\"ID: {self.__id}, Room Number: {self.room_number}, Room Type: {self.room_type}, Rate: ${self.rate}/night, Availability: {availability}\")\n",
    "\n",
    "    # Method to book the room\n",
    "    def book_room(self):\n",
    "        if self.__is_available:\n",
    "            self.__is_available = False\n",
    "            print(f\"Room {self.room_number} has been booked.\")\n",
    "        else:\n",
    "            print(f\"Room {self.room_number} is already booked.\")\n",
    "\n",
    "    # Method to check in a guest\n",
    "    def check_in(self):\n",
    "        if not self.__is_available:\n",
    "            print(f\"Guest has checked into room {self.room_number}.\")\n",
    "        else:\n",
    "            print(f\"Room {self.room_number} is not booked yet. Cannot check in.\")\n",
    "\n",
    "    # Method to check out a guest\n",
    "    def check_out(self):\n",
    "        if not self.__is_available:\n",
    "            self.__is_available = True\n",
    "            print(f\"Guest has checked out of room {self.room_number}.\")\n",
    "        else:\n",
    "            print(f\"Room {self.room_number} is already available.\")\n",
    "\n",
    "class SuiteRoom(Room):\n",
    "    def __init__(self, room_number, rate, suite_features):\n",
    "        super().__init__(room_number, \"Suite\", rate)\n",
    "        self.suite_features = suite_features\n",
    "\n",
    "    def display_info(self):\n",
    "        super().display_info()\n",
    "        print(f\"Suite Features: {self.suite_features}\")\n",
    "\n",
    "class StandardRoom(Room):\n",
    "    def __init__(self, room_number, rate, bed_type):\n",
    "        super().__init__(room_number, \"Standard\", rate)\n",
    "        self.bed_type = bed_type\n",
    "\n",
    "    def display_info(self):\n",
    "        super().display_info()\n",
    "        print(f\"Bed Type: {self.bed_type}\")\n",
    "\n",
    "# Testing the Hotel Management System\n",
    "if __name__ == \"__main__\":\n",
    "    # Create instances of SuiteRoom and StandardRoom\n",
    "    suite_room = SuiteRoom(101, 250, [\"King Bed\", \"Jacuzzi\", \"Sea View\"])\n",
    "    standard_room = StandardRoom(102, 100, \"Queen Bed\")\n",
    "\n",
    "    # Display room information\n",
    "    suite_room.display_info()\n",
    "    standard_room.display_info()\n",
    "\n",
    "    # Book rooms\n",
    "    suite_room.book_room()\n",
    "    standard_room.book_room()\n",
    "\n",
    "    # Attempt to book already booked rooms\n",
    "    suite_room.book_room()\n",
    "\n",
    "    # Check in guests\n",
    "    suite_room.check_in()\n",
    "    standard_room.check_in()\n",
    "\n",
    "    # Check out guests\n",
    "    suite_room.check_out()\n",
    "    standard_room.check_out()\n",
    "\n",
    "    # Display room information after operations\n",
    "    suite_room.display_info()\n",
    "    standard_room.display_info()\n"
   ]
  },
  {
   "cell_type": "markdown",
   "metadata": {},
   "source": [
    "## **Solution 8.**"
   ]
  },
  {
   "cell_type": "code",
   "execution_count": 8,
   "metadata": {},
   "outputs": [
    {
     "name": "stdout",
     "output_type": "stream",
     "text": [
      "ID: 1, Name: John Doe, Age: 40, Membership Type: Family, Status: Inactive\n",
      "Family Size: 4\n",
      "ID: 2, Name: Jane Smith, Age: 28, Membership Type: Individual, Status: Inactive\n",
      "Fitness Level: Intermediate\n",
      "Member John Doe has been registered.\n",
      "Member Jane Smith has been registered.\n",
      "Member John Doe is already registered.\n",
      "Membership for John Doe has been renewed.\n",
      "Membership for Jane Smith has been renewed.\n",
      "Membership for John Doe has been cancelled.\n",
      "Membership for Jane Smith has been cancelled.\n",
      "ID: 1, Name: John Doe, Age: 40, Membership Type: Family, Status: Inactive\n",
      "Family Size: 4\n",
      "ID: 2, Name: Jane Smith, Age: 28, Membership Type: Individual, Status: Inactive\n",
      "Fitness Level: Intermediate\n"
     ]
    }
   ],
   "source": [
    "class Member:\n",
    "    __id_counter = 1\n",
    "\n",
    "    def __init__(self, name, age, membership_type):\n",
    "        self.__id = Member.__id_counter\n",
    "        Member.__id_counter += 1\n",
    "        self.name = name\n",
    "        self.age = age\n",
    "        self.membership_type = membership_type\n",
    "        self.__membership_status = \"Inactive\"\n",
    "\n",
    "    # Getter for the unique identification number\n",
    "    def get_id(self):\n",
    "        return self.__id\n",
    "\n",
    "    # Method to display member information\n",
    "    def display_info(self):\n",
    "        print(f\"ID: {self.__id}, Name: {self.name}, Age: {self.age}, Membership Type: {self.membership_type}, Status: {self.__membership_status}\")\n",
    "\n",
    "    # Method to register a new member\n",
    "    def register_member(self):\n",
    "        if self.__membership_status == \"Inactive\":\n",
    "            self.__membership_status = \"Active\"\n",
    "            print(f\"Member {self.name} has been registered.\")\n",
    "        else:\n",
    "            print(f\"Member {self.name} is already registered.\")\n",
    "\n",
    "    # Method to renew membership\n",
    "    def renew_membership(self):\n",
    "        if self.__membership_status == \"Active\":\n",
    "            print(f\"Membership for {self.name} has been renewed.\")\n",
    "        else:\n",
    "            print(f\"Cannot renew membership. Member {self.name} is not active.\")\n",
    "\n",
    "    # Method to cancel membership\n",
    "    def cancel_membership(self):\n",
    "        if self.__membership_status == \"Active\":\n",
    "            self.__membership_status = \"Inactive\"\n",
    "            print(f\"Membership for {self.name} has been cancelled.\")\n",
    "        else:\n",
    "            print(f\"Member {self.name} is already inactive.\")\n",
    "\n",
    "class FamilyMember(Member):\n",
    "    def __init__(self, name, age, family_size):\n",
    "        super().__init__(name, age, \"Family\")\n",
    "        self.family_size = family_size\n",
    "\n",
    "    def display_info(self):\n",
    "        super().display_info()\n",
    "        print(f\"Family Size: {self.family_size}\")\n",
    "\n",
    "class IndividualMember(Member):\n",
    "    def __init__(self, name, age, fitness_level):\n",
    "        super().__init__(name, age, \"Individual\")\n",
    "        self.fitness_level = fitness_level\n",
    "\n",
    "    def display_info(self):\n",
    "        super().display_info()\n",
    "        print(f\"Fitness Level: {self.fitness_level}\")\n",
    "\n",
    "# Testing the Fitness Club Management System\n",
    "if __name__ == \"__main__\":\n",
    "    # Create instances of FamilyMember and IndividualMember\n",
    "    family_member = FamilyMember(\"John Doe\", 40, 4)\n",
    "    individual_member = IndividualMember(\"Jane Smith\", 28, \"Intermediate\")\n",
    "\n",
    "    # Display member information\n",
    "    family_member.display_info()\n",
    "    individual_member.display_info()\n",
    "\n",
    "    # Register members\n",
    "    family_member.register_member()\n",
    "    individual_member.register_member()\n",
    "\n",
    "    # Attempt to register already registered members\n",
    "    family_member.register_member()\n",
    "\n",
    "    # Renew memberships\n",
    "    family_member.renew_membership()\n",
    "    individual_member.renew_membership()\n",
    "\n",
    "    # Cancel memberships\n",
    "    family_member.cancel_membership()\n",
    "    individual_member.cancel_membership()\n",
    "\n",
    "    # Display member information after operations\n",
    "    family_member.display_info()\n",
    "    individual_member.display_info()\n"
   ]
  },
  {
   "cell_type": "markdown",
   "metadata": {},
   "source": [
    "## **Solution 9.**"
   ]
  },
  {
   "cell_type": "code",
   "execution_count": 9,
   "metadata": {},
   "outputs": [
    {
     "name": "stdout",
     "output_type": "stream",
     "text": [
      "ID: 1, Name: Private Gala, Date: 2024-08-01, Time: 18:00, Location: Grand Ballroom, Attendees: 0\n",
      "Invite Only: True\n",
      "ID: 2, Name: Music Concert, Date: 2024-08-02, Time: 20:00, Location: City Park, Attendees: 0\n",
      "Ticket Price: $50\n",
      "Added attendee: Alice\n",
      "Added attendee: Bob\n",
      "Added attendee: Charlie\n",
      "Added attendee: Dave\n",
      "Removed attendee: Bob\n",
      "Attendee Eve not found.\n",
      "Total attendees for private event: 1\n",
      "Total attendees for public event: 2\n",
      "ID: 1, Name: Private Gala, Date: 2024-08-01, Time: 18:00, Location: Grand Ballroom, Attendees: 1\n",
      "Invite Only: True\n",
      "ID: 2, Name: Music Concert, Date: 2024-08-02, Time: 20:00, Location: City Park, Attendees: 2\n",
      "Ticket Price: $50\n"
     ]
    }
   ],
   "source": [
    "class Event:\n",
    "    __id_counter = 1\n",
    "\n",
    "    def __init__(self, name, date, time, location):\n",
    "        self.__id = Event.__id_counter\n",
    "        Event.__id_counter += 1\n",
    "        self.name = name\n",
    "        self.date = date\n",
    "        self.time = time\n",
    "        self.location = location\n",
    "        self.__attendees = []\n",
    "\n",
    "    # Getter for the unique identification number\n",
    "    def get_id(self):\n",
    "        return self.__id\n",
    "\n",
    "    # Method to display event information\n",
    "    def display_info(self):\n",
    "        print(f\"ID: {self.__id}, Name: {self.name}, Date: {self.date}, Time: {self.time}, Location: {self.location}, Attendees: {len(self.__attendees)}\")\n",
    "\n",
    "    # Method to add an attendee\n",
    "    def add_attendee(self, attendee):\n",
    "        self.__attendees.append(attendee)\n",
    "        print(f\"Added attendee: {attendee}\")\n",
    "\n",
    "    # Method to remove an attendee\n",
    "    def remove_attendee(self, attendee):\n",
    "        if attendee in self.__attendees:\n",
    "            self.__attendees.remove(attendee)\n",
    "            print(f\"Removed attendee: {attendee}\")\n",
    "        else:\n",
    "            print(f\"Attendee {attendee} not found.\")\n",
    "\n",
    "    # Method to get the total number of attendees\n",
    "    def get_total_attendees(self):\n",
    "        return len(self.__attendees)\n",
    "\n",
    "class PrivateEvent(Event):\n",
    "    def __init__(self, name, date, time, location, invite_only):\n",
    "        super().__init__(name, date, time, location)\n",
    "        self.invite_only = invite_only\n",
    "\n",
    "    def display_info(self):\n",
    "        super().display_info()\n",
    "        print(f\"Invite Only: {self.invite_only}\")\n",
    "\n",
    "class PublicEvent(Event):\n",
    "    def __init__(self, name, date, time, location, ticket_price):\n",
    "        super().__init__(name, date, time, location)\n",
    "        self.ticket_price = ticket_price\n",
    "\n",
    "    def display_info(self):\n",
    "        super().display_info()\n",
    "        print(f\"Ticket Price: ${self.ticket_price}\")\n",
    "\n",
    "# Testing the Event Management System\n",
    "if __name__ == \"__main__\":\n",
    "    # Create instances of PrivateEvent and PublicEvent\n",
    "    private_event = PrivateEvent(\"Private Gala\", \"2024-08-01\", \"18:00\", \"Grand Ballroom\", True)\n",
    "    public_event = PublicEvent(\"Music Concert\", \"2024-08-02\", \"20:00\", \"City Park\", 50)\n",
    "\n",
    "    # Display event information\n",
    "    private_event.display_info()\n",
    "    public_event.display_info()\n",
    "\n",
    "    # Add attendees\n",
    "    private_event.add_attendee(\"Alice\")\n",
    "    private_event.add_attendee(\"Bob\")\n",
    "    public_event.add_attendee(\"Charlie\")\n",
    "    public_event.add_attendee(\"Dave\")\n",
    "\n",
    "    # Remove attendees\n",
    "    private_event.remove_attendee(\"Bob\")\n",
    "    public_event.remove_attendee(\"Eve\")  # Trying to remove an attendee not on the list\n",
    "\n",
    "    # Get total number of attendees\n",
    "    print(f\"Total attendees for private event: {private_event.get_total_attendees()}\")\n",
    "    print(f\"Total attendees for public event: {public_event.get_total_attendees()}\")\n",
    "\n",
    "    # Display updated event information\n",
    "    private_event.display_info()\n",
    "    public_event.display_info()\n"
   ]
  },
  {
   "cell_type": "markdown",
   "metadata": {},
   "source": [
    "## **Solution 10.**"
   ]
  },
  {
   "cell_type": "code",
   "execution_count": 10,
   "metadata": {},
   "outputs": [
    {
     "name": "stdout",
     "output_type": "stream",
     "text": [
      "ID: 1, Flight Number: DF123, Departure: JFK at 08:00, Arrival: LAX at 11:00, Available Seats: 150\n",
      "Domestic Service: In-flight meal\n",
      "ID: 2, Flight Number: IF456, Departure: JFK at 20:00, Arrival: LHR at 08:00, Available Seats: 200\n",
      "International Service: In-flight entertainment\n",
      "Seat booked on flight DF123. Seats remaining: 149\n",
      "Seat booked on flight DF123. Seats remaining: 148\n",
      "Seat booked on flight IF456. Seats remaining: 199\n",
      "Reservation canceled on flight DF123. Seats remaining: 149\n",
      "Reservation canceled on flight IF456. Seats remaining: 200\n",
      "Remaining seats on domestic flight: 149\n",
      "Remaining seats on international flight: 200\n",
      "ID: 1, Flight Number: DF123, Departure: JFK at 08:00, Arrival: LAX at 11:00, Available Seats: 149\n",
      "Domestic Service: In-flight meal\n",
      "ID: 2, Flight Number: IF456, Departure: JFK at 20:00, Arrival: LHR at 08:00, Available Seats: 200\n",
      "International Service: In-flight entertainment\n"
     ]
    }
   ],
   "source": [
    "class Flight:\n",
    "    __id_counter = 1\n",
    "\n",
    "    def __init__(self, flight_number, departure_airport, arrival_airport, departure_time, arrival_time, available_seats):\n",
    "        self.__id = Flight.__id_counter\n",
    "        Flight.__id_counter += 1\n",
    "        self.flight_number = flight_number\n",
    "        self.departure_airport = departure_airport\n",
    "        self.arrival_airport = arrival_airport\n",
    "        self.departure_time = departure_time\n",
    "        self.arrival_time = arrival_time\n",
    "        self.__available_seats = available_seats\n",
    "\n",
    "    # Getter for the unique identification number\n",
    "    def get_id(self):\n",
    "        return self.__id\n",
    "\n",
    "    # Method to display flight information\n",
    "    def display_info(self):\n",
    "        print(f\"ID: {self.__id}, Flight Number: {self.flight_number}, Departure: {self.departure_airport} at {self.departure_time}, Arrival: {self.arrival_airport} at {self.arrival_time}, Available Seats: {self.__available_seats}\")\n",
    "\n",
    "    # Method to book a seat\n",
    "    def book_seat(self):\n",
    "        if self.__available_seats > 0:\n",
    "            self.__available_seats -= 1\n",
    "            print(f\"Seat booked on flight {self.flight_number}. Seats remaining: {self.__available_seats}\")\n",
    "        else:\n",
    "            print(f\"No available seats on flight {self.flight_number}\")\n",
    "\n",
    "    # Method to cancel a reservation\n",
    "    def cancel_reservation(self):\n",
    "        self.__available_seats += 1\n",
    "        print(f\"Reservation canceled on flight {self.flight_number}. Seats remaining: {self.__available_seats}\")\n",
    "\n",
    "    # Method to get remaining available seats\n",
    "    def get_available_seats(self):\n",
    "        return self.__available_seats\n",
    "\n",
    "class DomesticFlight(Flight):\n",
    "    def __init__(self, flight_number, departure_airport, arrival_airport, departure_time, arrival_time, available_seats, domestic_service):\n",
    "        super().__init__(flight_number, departure_airport, arrival_airport, departure_time, arrival_time, available_seats)\n",
    "        self.domestic_service = domestic_service\n",
    "\n",
    "    def display_info(self):\n",
    "        super().display_info()\n",
    "        print(f\"Domestic Service: {self.domestic_service}\")\n",
    "\n",
    "class InternationalFlight(Flight):\n",
    "    def __init__(self, flight_number, departure_airport, arrival_airport, departure_time, arrival_time, available_seats, international_service):\n",
    "        super().__init__(flight_number, departure_airport, arrival_airport, departure_time, arrival_time, available_seats)\n",
    "        self.international_service = international_service\n",
    "\n",
    "    def display_info(self):\n",
    "        super().display_info()\n",
    "        print(f\"International Service: {self.international_service}\")\n",
    "\n",
    "# Testing the Airline Reservation System\n",
    "if __name__ == \"__main__\":\n",
    "    # Create instances of DomesticFlight and InternationalFlight\n",
    "    domestic_flight = DomesticFlight(\"DF123\", \"JFK\", \"LAX\", \"08:00\", \"11:00\", 150, \"In-flight meal\")\n",
    "    international_flight = InternationalFlight(\"IF456\", \"JFK\", \"LHR\", \"20:00\", \"08:00\", 200, \"In-flight entertainment\")\n",
    "\n",
    "    # Display flight information\n",
    "    domestic_flight.display_info()\n",
    "    international_flight.display_info()\n",
    "\n",
    "    # Book seats\n",
    "    domestic_flight.book_seat()\n",
    "    domestic_flight.book_seat()\n",
    "    international_flight.book_seat()\n",
    "\n",
    "    # Cancel reservations\n",
    "    domestic_flight.cancel_reservation()\n",
    "    international_flight.cancel_reservation()\n",
    "\n",
    "    # Get remaining available seats\n",
    "    print(f\"Remaining seats on domestic flight: {domestic_flight.get_available_seats()}\")\n",
    "    print(f\"Remaining seats on international flight: {international_flight.get_available_seats()}\")\n",
    "\n",
    "    # Display updated flight information\n",
    "    domestic_flight.display_info()\n",
    "    international_flight.display_info()\n"
   ]
  },
  {
   "cell_type": "markdown",
   "metadata": {},
   "source": [
    "## **Solution 11.**"
   ]
  },
  {
   "cell_type": "markdown",
   "metadata": {},
   "source": [
    "**Step 1: Create the constants.py Module:**"
   ]
  },
  {
   "cell_type": "code",
   "execution_count": null,
   "metadata": {},
   "outputs": [],
   "source": [
    "# constants.py\n",
    "\n",
    "# Mathematical constant\n",
    "pi = 3.141592653589793\n",
    "\n",
    "# Speed of light in vacuum (meters per second)\n",
    "speed_of_light = 299792458"
   ]
  },
  {
   "cell_type": "markdown",
   "metadata": {},
   "source": [
    "**Step 2: Use the constants.py Module in Another Python Script**"
   ]
  },
  {
   "cell_type": "code",
   "execution_count": null,
   "metadata": {},
   "outputs": [],
   "source": [
    "# main.py\n",
    "\n",
    "# Import the constants from constants.py\n",
    "import constants\n",
    "\n",
    "def main():\n",
    "    print(f\"Value of pi: {constants.pi}\")\n",
    "    print(f\"Speed of light: {constants.speed_of_light} m/s\")\n",
    "\n",
    "if __name__ == \"__main__\":\n",
    "    main()"
   ]
  },
  {
   "cell_type": "markdown",
   "metadata": {},
   "source": [
    "## **Solution 12.**"
   ]
  },
  {
   "cell_type": "code",
   "execution_count": null,
   "metadata": {},
   "outputs": [],
   "source": [
    "# calculator.py\n",
    "\n",
    "def add(a, b):\n",
    "    return a + b\n",
    "\n",
    "def subtract(a, b):\n",
    "    return a - b\n",
    "\n",
    "def multiply(a, b):\n",
    "    return a * b\n",
    "\n",
    "def divide(a, b):\n",
    "    if b == 0:\n",
    "        raise ValueError(\"Cannot divide by zero.\")\n",
    "    return a / b"
   ]
  },
  {
   "cell_type": "markdown",
   "metadata": {},
   "source": [
    "## **Solution 13.**"
   ]
  },
  {
   "cell_type": "markdown",
   "metadata": {},
   "source": [
    "The directory structure should look like this:"
   ]
  },
  {
   "cell_type": "code",
   "execution_count": null,
   "metadata": {},
   "outputs": [],
   "source": [
    "#ecommerce/\n",
    "#   __init__.py\n",
    "#    product_management.py\n",
    "#    order_processing.py"
   ]
  },
  {
   "cell_type": "markdown",
   "metadata": {},
   "source": [
    "**'ecommerce/__init__.py'**"
   ]
  },
  {
   "cell_type": "code",
   "execution_count": null,
   "metadata": {},
   "outputs": [],
   "source": [
    "# __init__.py\n",
    "# This file can be empty or used to initialize the package."
   ]
  },
  {
   "cell_type": "markdown",
   "metadata": {},
   "source": [
    "**'ecommerce/product_management.py'**"
   ]
  },
  {
   "cell_type": "code",
   "execution_count": null,
   "metadata": {},
   "outputs": [],
   "source": [
    "# product_management.py\n",
    "\n",
    "def add_product(product_list, product):\n",
    "    product_list.append(product)\n",
    "    return product_list\n",
    "\n",
    "def remove_product(product_list, product):\n",
    "    product_list.remove(product)\n",
    "    return product_list\n",
    "\n",
    "def list_products(product_list):\n",
    "    return product_list"
   ]
  },
  {
   "cell_type": "markdown",
   "metadata": {},
   "source": [
    "**'ecommerce/order_processing.py'**"
   ]
  },
  {
   "cell_type": "code",
   "execution_count": null,
   "metadata": {},
   "outputs": [],
   "source": [
    "# order_processing.py\n",
    "\n",
    "def create_order(order_list, order):\n",
    "    order_list.append(order)\n",
    "    return order_list\n",
    "\n",
    "def cancel_order(order_list, order):\n",
    "    order_list.remove(order)\n",
    "    return order_list\n",
    "\n",
    "def list_orders(order_list):\n",
    "    return order_list"
   ]
  },
  {
   "cell_type": "markdown",
   "metadata": {},
   "source": [
    "## **Solution 14.**"
   ]
  },
  {
   "cell_type": "code",
   "execution_count": null,
   "metadata": {},
   "outputs": [],
   "source": [
    "# string_utils.py\n",
    "\n",
    "def reverse_string(s):\n",
    "    return s[::-1]\n",
    "\n",
    "def capitalize_string(s):\n",
    "    return s.capitalize()"
   ]
  },
  {
   "cell_type": "markdown",
   "metadata": {},
   "source": [
    "## **Solution 15.**"
   ]
  },
  {
   "cell_type": "code",
   "execution_count": null,
   "metadata": {},
   "outputs": [],
   "source": [
    "# file_operations.py\n",
    "\n",
    "def read_file(filename):\n",
    "    with open(filename, 'r') as file:\n",
    "        return file.read()\n",
    "\n",
    "def write_file(filename, data):\n",
    "    with open(filename, 'w') as file:\n",
    "        file.write(data)\n",
    "\n",
    "def append_file(filename, data):\n",
    "    with open(filename, 'a') as file:\n",
    "        file.write(data)"
   ]
  },
  {
   "cell_type": "markdown",
   "metadata": {},
   "source": [
    "## **Solution 16.**"
   ]
  },
  {
   "cell_type": "code",
   "execution_count": null,
   "metadata": {},
   "outputs": [],
   "source": [
    "# create_employees_file.py\n",
    "\n",
    "def write_employees(filename, employees):\n",
    "    with open(filename, 'w') as file:\n",
    "        for employee in employees:\n",
    "            file.write(f\"Name: {employee['name']}, Age: {employee['age']}, Salary: {employee['salary']}\\n\")\n",
    "\n",
    "employees = [\n",
    "    {'name': 'John Doe', 'age': 30, 'salary': 50000},\n",
    "    {'name': 'Jane Smith', 'age': 25, 'salary': 60000},\n",
    "    {'name': 'Emily Davis', 'age': 35, 'salary': 70000},\n",
    "]\n",
    "\n",
    "write_employees(\"employees.txt\", employees)"
   ]
  },
  {
   "cell_type": "markdown",
   "metadata": {},
   "source": [
    "## **Solution 17.**"
   ]
  },
  {
   "cell_type": "code",
   "execution_count": null,
   "metadata": {},
   "outputs": [],
   "source": [
    "# read_inventory_file.py\n",
    "\n",
    "def display_inventory(filename):\n",
    "    with open(filename, 'r') as file:\n",
    "        for line in file:\n",
    "            print(line.strip())\n",
    "\n",
    "display_inventory(\"inventory.txt\")"
   ]
  },
  {
   "cell_type": "markdown",
   "metadata": {},
   "source": [
    "## **Solution 18.**"
   ]
  },
  {
   "cell_type": "code",
   "execution_count": null,
   "metadata": {},
   "outputs": [],
   "source": [
    "# calculate_expenses.py\n",
    "\n",
    "def calculate_total_expenses(filename):\n",
    "    total = 0\n",
    "    with open(filename, 'r') as file:\n",
    "        for line in file:\n",
    "            expense = float(line.strip())\n",
    "            total += expense\n",
    "    return total\n",
    "\n",
    "total_expenses = calculate_total_expenses(\"expenses.txt\")\n",
    "print(f\"Total expenses: {total_expenses}\")"
   ]
  },
  {
   "cell_type": "markdown",
   "metadata": {},
   "source": [
    "## **Solution 19.**"
   ]
  },
  {
   "cell_type": "code",
   "execution_count": null,
   "metadata": {},
   "outputs": [],
   "source": [
    "# word_count.py\n",
    "\n",
    "def count_words(filename):\n",
    "    word_count = {}\n",
    "    with open(filename, 'r') as file:\n",
    "        for line in file:\n",
    "            words = line.strip().split()\n",
    "            for word in words:\n",
    "                word = word.lower().strip('.,!?;:')\n",
    "                if word in word_count:\n",
    "                    word_count[word] += 1\n",
    "                else:\n",
    "                    word_count[word] = 1\n",
    "    return word_count\n",
    "\n",
    "def display_word_count(word_count):\n",
    "    for word in sorted(word_count.keys()):\n",
    "        print(f\"{word}: {word_count[word]}\")\n",
    "\n",
    "word_count = count_words(\"paragraph.txt\")\n",
    "display_word_count(word_count)"
   ]
  },
  {
   "cell_type": "markdown",
   "metadata": {},
   "source": [
    "## **Solution 20.**\n",
    "\n",
    "**Measures of Central Tendency:**\n",
    "\n",
    "These are statistical measures that describe the center or typical value of a dataset. The three main measures of central tendency are:\n",
    "\n",
    "1. **Mean:** The average of all data points.\n",
    "    * Mean(𝜇) = ∑𝑥𝑖/𝑛, where ∑𝑥𝑖 is the sum of all data points, and \n",
    "\n",
    "2. **Median:** The middle value in a dataset when the numbers are arranged in ascending or descending order. If the dataset has an even number of observations, the median is the average of the two middle numbers.\n",
    "\n",
    "3. **Mode:** The value that appears most frequently in a dataset.\n",
    "\n",
    "**Measures of Dispersion:**\n",
    "\n",
    "These are statistical measures that describe the spread or variability of a dataset. The main measures of dispersion are:\n",
    "\n",
    "1. **Range:** The difference between the maximum and minimum values in the dataset.\n",
    "    * Range = Max − Min\n",
    "\n",
    "2. **Variance:** The average of the squared differences from the mean.\n",
    "\n",
    "    * Variance(𝜎^2) = ∑(𝑥𝑖 − 𝜇)^2 / 𝑛\n",
    "\n",
    "3. **Standard Deviation:** The square root of the variance, giving a measure of dispersion in the same units as the data.\n",
    "\n",
    "    * Standard Deviation(𝜎) = Variance ^ 0.5\n",
    "\n",
    "4. **Interquartile Range (IQR):** The range of the middle 50% of the data, calculated as the difference between the third quartile (Q3) and the first quartile (Q1).\n",
    "    * IQR = 𝑄3 − 𝑄1"
   ]
  },
  {
   "cell_type": "markdown",
   "metadata": {},
   "source": [
    "## **Solution 21.**\n",
    "\n",
    "**Skewness:**\n",
    "\n",
    "Skewness is a measure of the asymmetry of the probability distribution of a real-valued random variable about its mean. It indicates whether the data points are skewed to the left (negative skew) or to the right (positive skew).\n",
    "\n",
    "Types of Skewness:\n",
    "1. **Positive Skew (Right Skew):**\n",
    "* The tail on the right side of the distribution is longer or fatter than the left side.\n",
    "* Most of the data points are concentrated on the left.\n",
    "* Mean > Median > Mode\n",
    "\n",
    "2. **Negative Skew (Left Skew):**\n",
    "* The tail on the left side of the distribution is longer or fatter than the right side.\n",
    "* Most of the data points are concentrated on the right.\n",
    "* Mean < Median < Mode\n",
    "\n",
    "3. **Zero Skew (Symmetrical):**\n",
    "* The distribution is symmetric, and the tails on both sides are equal.\n",
    "* Mean = Median = Mode\n",
    "\n",
    "**Graphical Representation:**"
   ]
  },
  {
   "cell_type": "code",
   "execution_count": 29,
   "metadata": {},
   "outputs": [
    {
     "data": {
      "image/png": "[encoded data removed]",
      "text/plain": [
       "<Figure size 1500x500 with 3 Axes>"
      ]
     },
     "metadata": {},
     "output_type": "display_data"
    }
   ],
   "source": [
    "import matplotlib.pyplot as plt\n",
    "import numpy as np\n",
    "import scipy.stats as stats\n",
    "\n",
    "# Generate data\n",
    "data_pos_skew = stats.skewnorm.rvs(a=10, size=1000)\n",
    "data_neg_skew = stats.skewnorm.rvs(a=-10, size=1000)\n",
    "data_sym = np.random.normal(size=1000)\n",
    "\n",
    "# Plot\n",
    "fig, axes = plt.subplots(1, 3, figsize=(15, 5))\n",
    "\n",
    "# Positive skew\n",
    "axes[0].hist(data_pos_skew, bins=30, color='skyblue', edgecolor='black')\n",
    "axes[0].set_title('Positive Skew')\n",
    "\n",
    "# Negative skew\n",
    "axes[1].hist(data_neg_skew, bins=30, color='lightgreen', edgecolor='black')\n",
    "axes[1].set_title('Negative Skew')\n",
    "\n",
    "# Symmetrical\n",
    "axes[2].hist(data_sym, bins=30, color='salmon', edgecolor='black')\n",
    "axes[2].set_title('Symmetrical')\n",
    "\n",
    "plt.show()"
   ]
  },
  {
   "cell_type": "markdown",
   "metadata": {},
   "source": [
    "## **Solution 22.**"
   ]
  },
  {
   "cell_type": "markdown",
   "metadata": {},
   "source": [
    "**Probability Mass Function (PMF):**\n",
    "\n",
    "The PMF is a function that gives the probability that a discrete random variable is exactly equal to some value. It is used for discrete random variables.\n",
    "\n",
    "Example: The PMF of a fair six-sided die.\n",
    "*  𝑃(𝑋 = 𝑥) = 1/6 for 𝑥 ∈ {1, 2, 3, 4, 5, 6}\n",
    "\n",
    "**Probability Density Function (PDF):**\n",
    "\n",
    "The PDF is a function that describes the likelihood of a continuous random variable to take on a particular value. The probability that a random variable falls within a particular range is given by the integral of this variable's PDF over that range.\n",
    "\n",
    "**Difference Between PMF and PDF:**\n",
    "* PMF is used for discrete random variables, while PDF is used for continuous random variables.\n",
    "* PMF gives probabilities directly, while PDF gives probability densities (the area under the curve represents probabilities)."
   ]
  },
  {
   "cell_type": "markdown",
   "metadata": {},
   "source": [
    "## **Solution 23.**\n",
    "\n",
    "**Correlation:**\n",
    "Correlation is a statistical measure that expresses the extent to which two variables are linearly related (i.e., how one variable changes as the other one does).\n",
    "\n",
    "**Types of Correlation:**\n",
    "1. **Positive Correlation:** Both variables move in the same direction.\n",
    "* Example: Height and weight (taller people tend to weigh more).\n",
    "\n",
    "2. **Negative Correlation:** Variables move in opposite directions.\n",
    "* Example: The number of hours spent studying and the number of hours spent playing video games (more studying, less gaming).\n",
    "\n",
    "3. **Zero Correlation:** No linear relationship between the variables.\n",
    "* Example: The amount of tea drunk and the number of books read.\n",
    "\n",
    "**Methods of Determining Correlation:**\n",
    "\n",
    "1. **Pearson Correlation Coefficient:**\n",
    "* Measures the linear relationship between two variables.\n",
    "* Values range from -1 to 1, where 1 means a perfect positive linear relationship, -1 means a perfect negative linear relationship, and 0 means no linear relationship.\n",
    "\n",
    "2. **Spearman Rank Correlation:**\n",
    "* Measures the rank-order relationship between two variables.\n",
    "* Useful for non-linear relationships.\n",
    "* Values range from -1 to 1, similar to Pearson.\n",
    "\n",
    "3. **Kendall Tau Correlation:**\n",
    "* Measures the ordinal association between two measured quantities.\n",
    "* Useful for small datasets with many tied ranks.\n",
    "\n",
    "Example Calculation of Pearson Correlation in Python:"
   ]
  },
  {
   "cell_type": "code",
   "execution_count": 30,
   "metadata": {},
   "outputs": [
    {
     "name": "stdout",
     "output_type": "stream",
     "text": [
      "Pearson correlation coefficient: 1.0\n"
     ]
    }
   ],
   "source": [
    "import numpy as np\n",
    "from scipy.stats import pearsonr\n",
    "\n",
    "# Sample data\n",
    "x = np.array([1, 2, 3, 4, 5])\n",
    "y = np.array([2, 4, 6, 8, 10])\n",
    "\n",
    "# Calculate Pearson correlation coefficient\n",
    "correlation, _ = pearsonr(x, y)\n",
    "print(f\"Pearson correlation coefficient: {correlation}\")"
   ]
  },
  {
   "cell_type": "markdown",
   "metadata": {},
   "source": [
    "## **Solution 24.**"
   ]
  },
  {
   "cell_type": "code",
   "execution_count": 31,
   "metadata": {},
   "outputs": [
    {
     "data": {
      "text/plain": [
       "0.9031178882610624"
      ]
     },
     "execution_count": 31,
     "metadata": {},
     "output_type": "execute_result"
    }
   ],
   "source": [
    "import numpy as np\n",
    "\n",
    "# Data\n",
    "accountancy = np.array([45, 70, 65, 30, 90, 40, 50, 75, 85, 60])\n",
    "statistics = np.array([35, 90, 70, 40, 95, 40, 60, 80, 80, 50])\n",
    "\n",
    "# Calculate sums and sums of squares\n",
    "n = len(accountancy)\n",
    "sum_x = np.sum(accountancy)\n",
    "sum_y = np.sum(statistics)\n",
    "sum_xy = np.sum(accountancy * statistics)\n",
    "sum_x2 = np.sum(accountancy ** 2)\n",
    "sum_y2 = np.sum(statistics ** 2)\n",
    "\n",
    "# Pearson correlation coefficient formula\n",
    "numerator = n * sum_xy - sum_x * sum_y\n",
    "denominator = np.sqrt((n * sum_x2 - sum_x ** 2) * (n * sum_y2 - sum_y ** 2))\n",
    "r = numerator / denominator\n",
    "\n",
    "r"
   ]
  },
  {
   "cell_type": "markdown",
   "metadata": {},
   "source": [
    "## **Solution 25.**"
   ]
  },
  {
   "cell_type": "markdown",
   "metadata": {},
   "source": [
    "1. **Purpose:**\n",
    "* **Correlation:** Measures the strength and direction of a linear relationship between two variables.\n",
    "* **Regression:** Predicts the value of a dependent variable based on the value of one or more independent variables.\n",
    "\n",
    "2. **Dependency:**\n",
    "* **Correlation:** Does not distinguish between dependent and independent variables; it treats both variables symmetrically.\n",
    "* **Regression:** Distinguishes between dependent (response) and independent (predictor) variables.\n",
    "\n",
    "3. **Equation:**\n",
    "* **Correlation:** Provides a single number (correlation coefficient) indicating the relationship strength.\n",
    "* **Regression:** Provides an equation (regression line) that can be used to make predictions about the dependent variable.\n",
    "\n",
    "4. **Units:**\n",
    "* **Correlation:** Dimensionless and unitless, ranging from -1 to 1.\n",
    "* **Regression:** Dependent on the units of the variables, and the slope of the regression line has units."
   ]
  },
  {
   "cell_type": "markdown",
   "metadata": {},
   "source": [
    "## **Solution 26.**"
   ]
  },
  {
   "cell_type": "code",
   "execution_count": 33,
   "metadata": {},
   "outputs": [
    {
     "data": {
      "text/plain": [
       "72.8"
      ]
     },
     "execution_count": 33,
     "metadata": {},
     "output_type": "execute_result"
    }
   ],
   "source": [
    "# Given data\n",
    "r = 0.8  # Correlation coefficient\n",
    "sigma_A = 10  # Standard deviation of price at Agra\n",
    "sigma_D = 8  # Standard deviation of price at Delhi\n",
    "mu_A = 50  # Mean price at Agra\n",
    "mu_D = 60  # Mean price at Delhi\n",
    "x_A = 70  # Price at Agra\n",
    "\n",
    "# Using the regression equation to find the most likely price at Delhi\n",
    "y = mu_D + r * (sigma_D / sigma_A) * (x_A - mu_A)\n",
    "most_likely_price_delhi = y\n",
    "\n",
    "# Display the result\n",
    "most_likely_price_delhi"
   ]
  },
  {
   "cell_type": "markdown",
   "metadata": {},
   "source": [
    "## **Solution 27.**"
   ]
  },
  {
   "cell_type": "code",
   "execution_count": 34,
   "metadata": {},
   "outputs": [
    {
     "data": {
      "text/plain": [
       "(13.0, 17.0, 1.3333333333333335, 5.0)"
      ]
     },
     "execution_count": 34,
     "metadata": {},
     "output_type": "execute_result"
    }
   ],
   "source": [
    "import numpy as np\n",
    "\n",
    "# Given data\n",
    "variance_x = 9  # Variance of x\n",
    "sigma_x = np.sqrt(variance_x)  # Standard deviation of x\n",
    "\n",
    "# Regression equations (converted to standard form)\n",
    "# 8x - 10y = -66\n",
    "# 40x - 18y = 214\n",
    "\n",
    "# Convert the equations to matrix form to solve for means\n",
    "# [8 -10] [mean_x] = [-66]\n",
    "# [40 -18] [mean_y] = [214]\n",
    "\n",
    "A = np.array([[8, -10], [40, -18]])  # Coefficients of x and y\n",
    "b = np.array([-66, 214])  # Constants on the right side of the equations\n",
    "\n",
    "# Solve for the mean values using numpy's linear algebra solver\n",
    "means = np.linalg.solve(A, b)\n",
    "mean_x, mean_y = means  # Extract the mean values of x and y\n",
    "\n",
    "# Calculate the regression coefficients\n",
    "# Regression coefficients b_yx and b_xy can be derived from the given equations\n",
    "b_yx = 8 / 10  # From the first regression equation\n",
    "b_xy = 40 / 18  # From the second regression equation\n",
    "\n",
    "# Calculate the coefficient of correlation using the relationship between regression coefficients\n",
    "# r^2 = b_yx * b_xy\n",
    "r_corr = np.sqrt(b_yx * b_xy)\n",
    "\n",
    "# Calculate the standard deviation of y using the formula:\n",
    "# b_yx = (sigma_y / sigma_x) * r\n",
    "sigma_y = sigma_x * b_xy / r_corr\n",
    "\n",
    "# Display the results\n",
    "mean_x, mean_y, r_corr, sigma_y"
   ]
  },
  {
   "cell_type": "markdown",
   "metadata": {},
   "source": [
    "## **Solution 28.**"
   ]
  },
  {
   "cell_type": "markdown",
   "metadata": {},
   "source": [
    "**Normal Distribution:**\n",
    "\n",
    "The normal distribution, also known as the Gaussian distribution, is a continuous probability distribution characterized by its symmetric, bell-shaped curve. It is defined by its mean μ and standard deviation σ.\n",
    "\n",
    "**Four Assumptions of Normal Distribution:**\n",
    "\n",
    "1. **Central Tendency:**\n",
    "* The mean, median, and mode of the distribution are all equal and located at the center of the distribution.\n",
    "* This assumption ensures that the highest point on the curve is at the mean.\n",
    "\n",
    "2. **Symmetry:**\n",
    "* The distribution is symmetric around the mean.\n",
    "* This means that the left and right sides of the distribution are mirror images of each other.\n",
    "\n",
    "3. **Asymptotic:**\n",
    "* The tails of the distribution approach, but never touch, the horizontal axis.\n",
    "* This implies that there are probabilities for extreme values, although they become increasingly small.\n",
    "\n",
    "4. **Empirical Rule (68-95-99.7 Rule):**\n",
    "* Approximately 68% of the data lies within one standard deviation of the mean.\n",
    "* Approximately 95% of the data lies within two standard deviations of the mean.\n",
    "* Approximately 99.7% of the data lies within three standard deviations of the mean.\n",
    "\n",
    "**Characteristics or Properties of the Normal Distribution Curve:**\n",
    "\n",
    "1. **Bell-Shaped Curve:**\n",
    "* The normal distribution has a symmetric, bell-shaped curve.\n",
    "\n",
    "2. **Mean, Median, Mode Coincide:**\n",
    "* The mean, median, and mode of a normal distribution are equal and lie at the center of the distribution.\n",
    "\n",
    "3. **Symmetry:**\n",
    "* The distribution is perfectly symmetric about its mean. This means the left half of the distribution is a mirror image of the right half.\n",
    "\n",
    "4. **Asymptotic Tails:**\n",
    "* The tails of the normal distribution curve approach the horizontal axis but never touch it, extending infinitely in both directions.\n",
    "\n",
    "5. **Area Under the Curve:**\n",
    "* The total area under the normal distribution curve is equal to 1, representing the total probability.\n",
    "\n",
    "6. **Empirical Rule:**\n",
    "* As stated in the assumptions, the empirical rule applies to the normal distribution, with specific percentages of the data lying within one, two, and three standard deviations from the mean.\n",
    "\n",
    "7. **Unimodal:**\n",
    "* The normal distribution has a single peak, indicating that it is unimodal.\n",
    "\n",
    "8. **Inflection Points:**\n",
    "* The curve has two points of inflection, located at μ−σ and μ+σ.\n",
    "\n",
    "**Python Code to Visualize Normal Distribution**\n",
    "\n",
    "Here's the Python code to visualize the normal distribution curve and highlight the empirical rule:"
   ]
  },
  {
   "cell_type": "code",
   "execution_count": 35,
   "metadata": {},
   "outputs": [
    {
     "data": {
      "image/png": "[encoded data removed]",
      "text/plain": [
       "<Figure size 640x480 with 1 Axes>"
      ]
     },
     "metadata": {},
     "output_type": "display_data"
    }
   ],
   "source": [
    "import numpy as np\n",
    "import matplotlib.pyplot as plt\n",
    "from scipy.stats import norm\n",
    "\n",
    "# Define mean and standard deviation\n",
    "mu, sigma = 0, 1  # Standard normal distribution\n",
    "\n",
    "# Generate data points for the x-axis\n",
    "x = np.linspace(mu - 4*sigma, mu + 4*sigma, 1000)\n",
    "# Calculate the probability density function (PDF) for the normal distribution\n",
    "y = norm.pdf(x, mu, sigma)\n",
    "\n",
    "# Plot the normal distribution curve\n",
    "plt.plot(x, y, label='Normal Distribution')\n",
    "\n",
    "# Highlight areas for the empirical rule\n",
    "plt.fill_between(x, y, where=(x >= mu - sigma) & (x <= mu + sigma), color='blue', alpha=0.2, label='68% within 1 SD')\n",
    "plt.fill_between(x, y, where=(x >= mu - 2*sigma) & (x <= mu + 2*sigma), color='green', alpha=0.2, label='95% within 2 SD')\n",
    "plt.fill_between(x, y, where=(x >= mu - 3*sigma) & (x <= mu + 3*sigma), color='red', alpha=0.2, label='99.7% within 3 SD')\n",
    "\n",
    "# Add title and labels\n",
    "plt.title('Normal Distribution and Empirical Rule')\n",
    "plt.xlabel('Value')\n",
    "plt.ylabel('Probability Density')\n",
    "plt.legend()\n",
    "plt.show()\n"
   ]
  },
  {
   "cell_type": "markdown",
   "metadata": {},
   "source": [
    "## **Solution 29.**"
   ]
  },
  {
   "cell_type": "markdown",
   "metadata": {},
   "source": [
    "1. **Bell-Shaped Curve:**\n",
    "* The normal distribution has a symmetric, bell-shaped curve.\n",
    "\n",
    "2. **Mean, Median, Mode Coincide:**\n",
    "\n",
    "* The mean, median, and mode of a normal distribution are equal and lie at the center of the distribution.\n",
    "\n",
    "3. **Symmetry:**\n",
    "* The distribution is perfectly symmetric about its mean. This means the left half of the distribution is a mirror image of the right half.\n",
    "\n",
    "4. **Asymptotic Tails:**\n",
    "\n",
    "The tails of the normal distribution curve approach the horizontal axis but never touch it, extending infinitely in both directions.\n",
    "\n",
    "5. **Area Under the Curve:**\n",
    "* The total area under the normal distribution curve is equal to 1, representing the total probability.\n",
    "\n",
    "6. **Empirical Rule (68-95-99.7 Rule):**\n",
    "* Approximately 68% of the data lies within one standard deviation of the mean.\n",
    "* Approximately 95% of the data lies within two standard deviations of the mean.\n",
    "* Approximately 99.7% of the data lies within three standard deviations of the mean.\n",
    "\n",
    "7. **Unimodal:**\n",
    "* The normal distribution has a single peak, indicating that it is unimodal.\n",
    "\n",
    "8. **Inflection Points:**\n",
    "* The curve has two points of inflection, located at μ−σ and μ+σ."
   ]
  },
  {
   "cell_type": "markdown",
   "metadata": {},
   "source": [
    "## **Solution 30.**"
   ]
  },
  {
   "cell_type": "code",
   "execution_count": 36,
   "metadata": {},
   "outputs": [
    {
     "data": {
      "text/plain": [
       "(0.5000065142726018,\n",
       " 0.6826894921370859,\n",
       " 0.9544997361036416,\n",
       " 0.9973002039367398,\n",
       " 0.002699796063260207)"
      ]
     },
     "execution_count": 36,
     "metadata": {},
     "output_type": "execute_result"
    }
   ],
   "source": [
    "import scipy.stats as stats\n",
    "\n",
    "# Standard normal distribution parameters\n",
    "mu = 0\n",
    "sigma = 1\n",
    "\n",
    "# Calculate the percentages\n",
    "middle_50 = stats.norm.cdf(mu + 0.6745 * sigma) - stats.norm.cdf(mu - 0.6745 * sigma)\n",
    "within_1sd = stats.norm.cdf(mu + sigma) - stats.norm.cdf(mu - sigma)\n",
    "within_2sd = stats.norm.cdf(mu + 2 * sigma) - stats.norm.cdf(mu - 2 * sigma)\n",
    "within_3sd = stats.norm.cdf(mu + 3 * sigma) - stats.norm.cdf(mu - 3 * sigma)\n",
    "outside_3sd = 1 - within_3sd\n",
    "\n",
    "# Print the results\n",
    "middle_50, within_1sd, within_2sd, within_3sd, outside_3sd"
   ]
  },
  {
   "cell_type": "markdown",
   "metadata": {},
   "source": [
    "## **Solution 31.**"
   ]
  },
  {
   "cell_type": "code",
   "execution_count": 37,
   "metadata": {},
   "outputs": [
    {
     "data": {
      "text/plain": [
       "(38.49303297782918, 34.13447460685429, 11.506967022170823, 13.590512198327787)"
      ]
     },
     "execution_count": 37,
     "metadata": {},
     "output_type": "execute_result"
    }
   ],
   "source": [
    "# Given data\n",
    "mu = 60\n",
    "sigma = 10\n",
    "\n",
    "# Calculate the percentages\n",
    "between_60_and_72 = stats.norm.cdf(72, mu, sigma) - stats.norm.cdf(60, mu, sigma)\n",
    "between_50_and_60 = stats.norm.cdf(60, mu, sigma) - stats.norm.cdf(50, mu, sigma)\n",
    "beyond_72 = 1 - stats.norm.cdf(72, mu, sigma)\n",
    "between_70_and_80 = stats.norm.cdf(80, mu, sigma) - stats.norm.cdf(70, mu, sigma)\n",
    "\n",
    "# Print the results\n",
    "between_60_and_72 * 100, between_50_and_60 * 100, beyond_72 * 100, between_70_and_80 * 100"
   ]
  },
  {
   "cell_type": "markdown",
   "metadata": {},
   "source": [
    "## **Solution 32.**"
   ]
  },
  {
   "cell_type": "code",
   "execution_count": 38,
   "metadata": {},
   "outputs": [
    {
     "data": {
      "text/plain": [
       "(2379.8288089718562, 3.4894361855331013)"
      ]
     },
     "execution_count": 38,
     "metadata": {},
     "output_type": "execute_result"
    }
   ],
   "source": [
    "# Given data\n",
    "mu = 49\n",
    "sigma = 6\n",
    "\n",
    "# Calculate the proportions\n",
    "more_than_55 = 1 - stats.norm.cdf(55, mu, sigma)\n",
    "more_than_70 = 1 - stats.norm.cdf(70, mu, sigma)\n",
    "\n",
    "# Convert to number of students\n",
    "total_students = 15000\n",
    "students_more_than_55 = more_than_55 * total_students\n",
    "students_more_than_70 = more_than_70 * total_students\n",
    "\n",
    "# Print the results\n",
    "students_more_than_55, students_more_than_70"
   ]
  },
  {
   "cell_type": "markdown",
   "metadata": {},
   "source": [
    "## **Solution 33.**"
   ]
  },
  {
   "cell_type": "code",
   "execution_count": 39,
   "metadata": {},
   "outputs": [
    {
     "data": {
      "text/plain": [
       "(79.32762696572854, 341.3447460685429)"
      ]
     },
     "execution_count": 39,
     "metadata": {},
     "output_type": "execute_result"
    }
   ],
   "source": [
    "# Given data\n",
    "mu = 65\n",
    "sigma = 5\n",
    "\n",
    "# Calculate the proportions\n",
    "greater_than_70 = 1 - stats.norm.cdf(70, mu, sigma)\n",
    "between_60_and_70 = stats.norm.cdf(70, mu, sigma) - stats.norm.cdf(60, mu, sigma)\n",
    "\n",
    "# Convert to number of students\n",
    "total_students = 500\n",
    "students_greater_than_70 = greater_than_70 * total_students\n",
    "students_between_60_and_70 = between_60_and_70 * total_students\n",
    "\n",
    "# Print the results\n",
    "students_greater_than_70, students_between_60_and_70"
   ]
  },
  {
   "cell_type": "markdown",
   "metadata": {},
   "source": [
    "## **Solution 34.**"
   ]
  },
  {
   "cell_type": "markdown",
   "metadata": {},
   "source": [
    "**Statistical Hypothesis:**\n",
    "\n",
    "A statistical hypothesis is a statement or assumption about a population parameter (e.g., mean, variance) that can be tested using statistical methods.\n",
    "\n",
    "**Errors in Hypothesis Testing:**\n",
    "\n",
    "1. **Type I Error (False Positive):**\n",
    "* Occurs when the null hypothesis is rejected when it is actually true.\n",
    "* Probability of Type I error is denoted by α.\n",
    "\n",
    "2. **Type II Error (False Negative):**\n",
    "* Occurs when the null hypothesis is not rejected when it is actually false.\n",
    "* Probability of Type II error is denoted by β.\n",
    "\n",
    "**Sample:**\n",
    "\n",
    "A sample is a subset of individuals or observations selected from a population for the purpose of statistical analysis.\n",
    "\n",
    "**Large Samples & Small Samples:**\n",
    "* Large Samples: Typically, samples with n>30 are considered large.\n",
    "* Small Samples: Samples with n≤30 are considered small."
   ]
  },
  {
   "cell_type": "markdown",
   "metadata": {},
   "source": [
    "## **Solution 35.**"
   ]
  },
  {
   "cell_type": "code",
   "execution_count": 40,
   "metadata": {},
   "outputs": [
    {
     "data": {
      "text/plain": [
       "(17.632653061224488, 1.6409125885431846)"
      ]
     },
     "execution_count": 40,
     "metadata": {},
     "output_type": "execute_result"
    }
   ],
   "source": [
    "import scipy.stats as stats\n",
    "\n",
    "# Given data\n",
    "n = 25\n",
    "sample_std = 9.0\n",
    "pop_std = 10.5\n",
    "\n",
    "# Calculate chi-square test statistic\n",
    "chi_square_stat = (n - 1) * (sample_std ** 2) / (pop_std ** 2)\n",
    "\n",
    "# Degrees of freedom\n",
    "df = n - 1\n",
    "\n",
    "# Calculate p-value\n",
    "p_value = 2 * (1 - stats.chi2.cdf(chi_square_stat, df))\n",
    "\n",
    "# Print the results\n",
    "chi_square_stat, p_value"
   ]
  },
  {
   "cell_type": "markdown",
   "metadata": {},
   "source": [
    "## **Solution 37.**"
   ]
  },
  {
   "cell_type": "code",
   "execution_count": 41,
   "metadata": {},
   "outputs": [
    {
     "data": {
      "text/plain": [
       "(7.7, 0.10320672172612926)"
      ]
     },
     "execution_count": 41,
     "metadata": {},
     "output_type": "execute_result"
    }
   ],
   "source": [
    "import numpy as np\n",
    "from scipy.stats import chisquare\n",
    "\n",
    "# Given data\n",
    "grades = ['A', 'B', 'C', 'D', 'E']\n",
    "frequencies = [15, 17, 30, 22, 16]\n",
    "\n",
    "# Expected frequencies for uniform distribution\n",
    "total_frequency = sum(frequencies)\n",
    "expected_frequency = [total_frequency / len(frequencies)] * len(frequencies)\n",
    "\n",
    "# Perform chi-square test\n",
    "chi2_stat, p_val = chisquare(frequencies, expected_frequency)\n",
    "\n",
    "# Print the results\n",
    "chi2_stat, p_val"
   ]
  },
  {
   "cell_type": "markdown",
   "metadata": {},
   "source": [
    "## **Solution 38.**"
   ]
  },
  {
   "cell_type": "code",
   "execution_count": 44,
   "metadata": {},
   "outputs": [
    {
     "name": "stdout",
     "output_type": "stream",
     "text": [
      "                Anova\n",
      "======================================\n",
      "          F Value Num DF Den DF Pr > F\n",
      "--------------------------------------\n",
      "Detergent  9.8489 2.0000 4.0000 0.0285\n",
      "======================================\n",
      "\n"
     ]
    }
   ],
   "source": [
    "import pandas as pd\n",
    "from statsmodels.stats.anova import AnovaRM\n",
    "\n",
    "# Organize the data into a DataFrame\n",
    "data = {\n",
    "    'Water_Temperature': ['Cold water', 'Cold water', 'Cold water', 'Warm water', 'Warm water', 'Warm water', 'Hot water', 'Hot water', 'Hot water'],\n",
    "    'Detergent': ['A', 'B', 'C', 'A', 'B', 'C', 'A', 'B', 'C'],\n",
    "    'Whiteness': [57, 55, 67, 49, 52, 68, 54, 46, 58]\n",
    "}\n",
    "df = pd.DataFrame(data)\n",
    "\n",
    "# Perform the ANOVA test\n",
    "aovrm = AnovaRM(df, 'Whiteness', 'Water_Temperature', within=['Detergent'])\n",
    "res = aovrm.fit()\n",
    "\n",
    "print(res)"
   ]
  },
  {
   "cell_type": "markdown",
   "metadata": {},
   "source": [
    "## **Solution 39.**"
   ]
  },
  {
   "cell_type": "code",
   "execution_count": null,
   "metadata": {},
   "outputs": [],
   "source": [
    "from flask import Flask\n",
    "\n",
    "app = Flask(__name__)\n",
    "\n",
    "# Define the route for the homepage\n",
    "@app.route('/')\n",
    "def hello_world():\n",
    "    # Return the string \"Hello, World!\" when accessing the homepage\n",
    "    return 'Hello, World!'\n",
    "\n",
    "# Run the application\n",
    "if __name__ == '__main__':\n",
    "    app.run(debug=True)"
   ]
  },
  {
   "cell_type": "markdown",
   "metadata": {},
   "source": [
    "## **Solution 40.**"
   ]
  },
  {
   "cell_type": "code",
   "execution_count": null,
   "metadata": {},
   "outputs": [],
   "source": [
    "from flask import Flask, request, render_template_string\n",
    "\n",
    "app = Flask(__name__)\n",
    "\n",
    "# Define the route for the homepage with GET and POST methods\n",
    "@app.route('/', methods=['GET', 'POST'])\n",
    "def index():\n",
    "    if request.method == 'POST':\n",
    "        # Retrieve data from the form when the method is POST\n",
    "        form_data = request.form['data']\n",
    "        # Return a response including the submitted data\n",
    "        return f'Form submitted with data: {form_data}'\n",
    "    # Display a simple form when the method is GET\n",
    "    return '''\n",
    "        <form method=\"post\">\n",
    "            Data: <input type=\"text\" name=\"data\">\n",
    "            <input type=\"submit\">\n",
    "        </form>\n",
    "    '''\n",
    "\n",
    "# Run the application\n",
    "if __name__ == '__main__':\n",
    "    app.run(debug=True)"
   ]
  },
  {
   "cell_type": "markdown",
   "metadata": {},
   "source": [
    "## **Solution 41.**"
   ]
  },
  {
   "cell_type": "code",
   "execution_count": null,
   "metadata": {},
   "outputs": [],
   "source": [
    "from flask import Flask\n",
    "\n",
    "app = Flask(__name__)\n",
    "\n",
    "# Define a route that accepts a parameter in the URL\n",
    "@app.route('/<name>')\n",
    "def hello_name(name):\n",
    "    # Return a greeting message with the given name\n",
    "    return f'Hello, {name}!'\n",
    "\n",
    "# Run the application\n",
    "if __name__ == '__main__':\n",
    "    app.run(debug=True)"
   ]
  },
  {
   "cell_type": "markdown",
   "metadata": {},
   "source": [
    "## **Solution 42.**"
   ]
  },
  {
   "cell_type": "code",
   "execution_count": null,
   "metadata": {},
   "outputs": [],
   "source": [
    "from flask import Flask, request, redirect, url_for, session\n",
    "\n",
    "app = Flask(__name__)\n",
    "# Secret key for session management\n",
    "app.secret_key = 'supersecretkey'\n",
    "\n",
    "# Dummy user data for demonstration\n",
    "users = {'user1': 'password1'}\n",
    "\n",
    "# Define the route for login\n",
    "@app.route('/login', methods=['GET', 'POST'])\n",
    "def login():\n",
    "    if request.method == 'POST':\n",
    "        # Retrieve username and password from the form\n",
    "        username = request.form['username']\n",
    "        password = request.form['password']\n",
    "        # Check if the username and password match\n",
    "        if username in users and users[username] == password:\n",
    "            # Store the username in the session\n",
    "            session['username'] = username\n",
    "            # Redirect to the protected route\n",
    "            return redirect(url_for('protected'))\n",
    "        # If credentials are invalid, return an error message\n",
    "        return 'Invalid credentials'\n",
    "    # Display the login form\n",
    "    return '''\n",
    "        <form method=\"post\">\n",
    "            Username: <input type=\"text\" name=\"username\">\n",
    "            Password: <input type=\"password\" name=\"password\">\n",
    "            <input type=\"submit\">\n",
    "        </form>\n",
    "    '''\n",
    "\n",
    "# Define a protected route that requires login\n",
    "@app.route('/protected')\n",
    "def protected():\n",
    "    if 'username' in session:\n",
    "        # Return a message for logged-in users\n",
    "        return f'Hello, {session[\"username\"]}! You are logged in.'\n",
    "    # Redirect to the login page if not logged in\n",
    "    return redirect(url_for('login'))\n",
    "\n",
    "# Run the application\n",
    "if __name__ == '__main__':\n",
    "    app.run(debug=True)"
   ]
  },
  {
   "cell_type": "markdown",
   "metadata": {},
   "source": [
    "## **Solution 43.**"
   ]
  },
  {
   "cell_type": "code",
   "execution_count": null,
   "metadata": {},
   "outputs": [],
   "source": [
    "from flask import Flask\n",
    "from flask_sqlalchemy import SQLAlchemy\n",
    "\n",
    "app = Flask(__name__)\n",
    "# Configure the SQLite database URI\n",
    "app.config['SQLALCHEMY_DATABASE_URI'] = 'sqlite:///example.db'\n",
    "# Initialize the SQLAlchemy object\n",
    "db = SQLAlchemy(app)\n",
    "\n",
    "# Define a User model\n",
    "class User(db.Model):\n",
    "    id = db.Column(db.Integer, primary_key=True)\n",
    "    username = db.Column(db.String(80), unique=True, nullable=False)\n",
    "    email = db.Column(db.String(120), unique=True, nullable=False)\n",
    "\n",
    "@app.route('/')\n",
    "def index():\n",
    "    # Return a simple message\n",
    "    return 'Database connected!'\n",
    "\n",
    "# Run the application\n",
    "if __name__ == '__main__':\n",
    "    # Create all database tables\n",
    "    db.create_all()\n",
    "    app.run(debug=True)\n"
   ]
  },
  {
   "cell_type": "markdown",
   "metadata": {},
   "source": [
    "## **Solution 44.**"
   ]
  },
  {
   "cell_type": "code",
   "execution_count": null,
   "metadata": {},
   "outputs": [],
   "source": [
    "from flask import Flask, jsonify\n",
    "\n",
    "app = Flask(__name__)\n",
    "\n",
    "# Define a route for the API endpoint\n",
    "@app.route('/api/data')\n",
    "def get_data():\n",
    "    # Return JSON data\n",
    "    data = {'name': 'John', 'age': 30}\n",
    "    return jsonify(data)\n",
    "\n",
    "# Run the application\n",
    "if __name__ == '__main__':\n",
    "    app.run(debug=True)"
   ]
  },
  {
   "cell_type": "markdown",
   "metadata": {},
   "source": [
    "## **Solution 45.**"
   ]
  },
  {
   "cell_type": "code",
   "execution_count": null,
   "metadata": {},
   "outputs": [],
   "source": [
    "from flask import Flask, render_template, request\n",
    "from flask_wtf import FlaskForm\n",
    "from wtforms import StringField, SubmitField\n",
    "from wtforms.validators import DataRequired\n",
    "\n",
    "app = Flask(__name__)\n",
    "# Secret key for form validation\n",
    "app.config['SECRET_KEY'] = 'supersecretkey'\n",
    "\n",
    "# Define a form class\n",
    "class MyForm(FlaskForm):\n",
    "    name = StringField('Name', validators=[DataRequired()])\n",
    "    submit = SubmitField('Submit')\n",
    "\n",
    "# Define a route for the form\n",
    "@app.route('/', methods=['GET', 'POST'])\n",
    "def index():\n",
    "    form = MyForm()\n",
    "    if form.validate_on_submit():\n",
    "        # Return a greeting message with the submitted name\n",
    "        return f'Hello, {form.name.data}!'\n",
    "    # Render the form template\n",
    "    return render_template('form.html', form=form)\n",
    "\n",
    "# Run the application\n",
    "if __name__ == '__main__':\n",
    "    app.run(debug=True)"
   ]
  },
  {
   "cell_type": "markdown",
   "metadata": {},
   "source": [
    "## **Solution 46.**"
   ]
  },
  {
   "cell_type": "code",
   "execution_count": null,
   "metadata": {},
   "outputs": [],
   "source": [
    "from flask import Flask, request\n",
    "import os\n",
    "\n",
    "app = Flask(__name__)\n",
    "# Configure the upload folder\n",
    "app.config['UPLOAD_FOLDER'] = '/path/to/upload'\n",
    "\n",
    "# Define a route for file upload\n",
    "@app.route('/upload', methods=['GET', 'POST'])\n",
    "def upload_file():\n",
    "    if request.method == 'POST':\n",
    "        # Get the file from the form\n",
    "        file = request.files['file']\n",
    "        if file:\n",
    "            # Save the file to the configured upload folder\n",
    "            file.save(os.path.join(app.config['UPLOAD_FOLDER'], file.filename))\n",
    "            return 'File uploaded successfully'\n",
    "    # Render the file upload form\n",
    "    return '''\n",
    "        <form method=\"post\" enctype=\"multipart/form-data\">\n",
    "            <input type=\"file\" name=\"file\">\n",
    "            <input type=\"submit\">\n",
    "        </form>\n",
    "    '''\n",
    "\n",
    "# Run the application\n",
    "if __name__ == '__main__':\n",
    "    app.run(debug=True)"
   ]
  },
  {
   "cell_type": "markdown",
   "metadata": {},
   "source": [
    "## **Solution 47.**"
   ]
  },
  {
   "cell_type": "code",
   "execution_count": null,
   "metadata": {},
   "outputs": [],
   "source": [
    "from flask import Flask, Blueprint\n",
    "\n",
    "app = Flask(__name__)\n",
    "\n",
    "# Define a blueprint\n",
    "bp = Blueprint('main', __name__)\n",
    "\n",
    "# Define a route within the blueprint\n",
    "@bp.route('/')\n",
    "def index():\n",
    "    return 'Hello from Blueprint!'\n",
    "\n",
    "# Register the blueprint with the app\n",
    "app.register_blueprint(bp)\n",
    "\n",
    "# Run the application\n",
    "if __name__ == '__main__':\n",
    "    app.run(debug=True)"
   ]
  },
  {
   "cell_type": "markdown",
   "metadata": {},
   "source": [
    "## **Solution 48.**"
   ]
  },
  {
   "cell_type": "markdown",
   "metadata": {},
   "source": [
    "**1. Install Gunicorn:**"
   ]
  },
  {
   "cell_type": "code",
   "execution_count": null,
   "metadata": {},
   "outputs": [],
   "source": [
    "# pip install gunicorn"
   ]
  },
  {
   "cell_type": "markdown",
   "metadata": {},
   "source": [
    "**2. Run Gunicorn:**"
   ]
  },
  {
   "cell_type": "code",
   "execution_count": null,
   "metadata": {},
   "outputs": [],
   "source": [
    "# gunicorn -w 4 -b 0.0.0.0:8000 app:app"
   ]
  },
  {
   "cell_type": "markdown",
   "metadata": {},
   "source": [
    "**3. Nginx Configuration:**\n",
    "* Create a configuration file for your site in /etc/nginx/sites-available/yourapp.\n",
    "* Add the following configuration"
   ]
  },
  {
   "cell_type": "code",
   "execution_count": null,
   "metadata": {},
   "outputs": [],
   "source": [
    "# server {\n",
    "#     listen 80;\n",
    "#     server_name your_domain;\n",
    "\n",
    "#     location / {\n",
    "#         proxy_pass http://127.0.0.1:8000;\n",
    "#         proxy_set_header Host $host;\n",
    "#         proxy_set_header X-Real-IP $remote_addr;\n",
    "#         proxy_set_header X-Forwarded-For $proxy_add_x_forwarded_for;\n",
    "#         proxy_set_header X-Forwarded-Proto $scheme;\n",
    "#     }\n",
    "# }"
   ]
  },
  {
   "cell_type": "markdown",
   "metadata": {},
   "source": [
    "**4. Enable the Site:**"
   ]
  },
  {
   "cell_type": "code",
   "execution_count": null,
   "metadata": {},
   "outputs": [],
   "source": [
    "# ln -s /etc/nginx/sites-available/yourapp /etc/nginx/sites-enabled\n",
    "# systemctl restart nginx\n"
   ]
  },
  {
   "cell_type": "markdown",
   "metadata": {},
   "source": [
    "## **Solution 49.**"
   ]
  },
  {
   "cell_type": "markdown",
   "metadata": {},
   "source": [
    "**Project Structure**"
   ]
  },
  {
   "cell_type": "code",
   "execution_count": null,
   "metadata": {},
   "outputs": [],
   "source": [
    "# /project_directory\n",
    "#     /templates\n",
    "#         signup.html\n",
    "#         signin.html\n",
    "#     app.py"
   ]
  },
  {
   "cell_type": "markdown",
   "metadata": {},
   "source": [
    "**'app.py'**"
   ]
  },
  {
   "cell_type": "code",
   "execution_count": null,
   "metadata": {},
   "outputs": [],
   "source": [
    "from flask import Flask, render_template, request, redirect, url_for, session\n",
    "from flask_pymongo import PyMongo\n",
    "from werkzeug.security import generate_password_hash, check_password_hash\n",
    "\n",
    "app = Flask(__name__)\n",
    "# Configure the MongoDB URI and secret key for session management\n",
    "app.config['MONGO_URI'] = 'mongodb://localhost:27017/mydatabase'\n",
    "app.secret_key = 'supersecretkey'\n",
    "\n",
    "# Initialize the PyMongo client\n",
    "mongo = PyMongo(app)\n",
    "\n",
    "# Route for user signup\n",
    "@app.route('/signup', methods=['GET', 'POST'])\n",
    "def signup():\n",
    "    if request.method == 'POST':\n",
    "        # Get the form data\n",
    "        username = request.form['username']\n",
    "        password = request.form['password']\n",
    "        # Hash the password for security\n",
    "        hashed_password = generate_password_hash(password)\n",
    "        # Insert the new user into the MongoDB collection\n",
    "        mongo.db.users.insert_one({'username': username, 'password': hashed_password})\n",
    "        # Redirect to the signin page\n",
    "        return redirect"
   ]
  },
  {
   "cell_type": "markdown",
   "metadata": {},
   "source": [
    "## **Solution 50. Machine Learning**"
   ]
  },
  {
   "cell_type": "code",
   "execution_count": 45,
   "metadata": {},
   "outputs": [],
   "source": [
    "import pandas as pd\n",
    "import seaborn as sns\n",
    "import matplotlib.pyplot as plt\n",
    "import numpy as np\n",
    "\n",
    "import warnings\n",
    "warnings.filterwarnings('ignore')"
   ]
  },
  {
   "cell_type": "markdown",
   "metadata": {},
   "source": [
    "### **What is the difference between series and Dataframes.**\n",
    "\n",
    "A Series is a one-dimensional labeled array capable of holding any data type (integers, strings, floating point numbers, etc.). It is essentially a column in a DataFrame.\n",
    "\n",
    "**Key Characteristics of Series:**\n",
    "* **One-dimensional:** It has a single axis, which is the index.\n",
    "* **Homogeneous Data:** All elements in a Series have the same data type.\n",
    "* **Labeled Index:** Each element is associated with a unique label (index).\n",
    "\n",
    "**Example:**"
   ]
  },
  {
   "cell_type": "code",
   "execution_count": 46,
   "metadata": {},
   "outputs": [
    {
     "name": "stdout",
     "output_type": "stream",
     "text": [
      "a    1\n",
      "b    2\n",
      "c    3\n",
      "d    4\n",
      "e    5\n",
      "dtype: int64\n"
     ]
    }
   ],
   "source": [
    "data = [1, 2, 3, 4, 5]\n",
    "series = pd.Series(data, index=['a', 'b', 'c', 'd', 'e'])\n",
    "print(series)"
   ]
  },
  {
   "cell_type": "markdown",
   "metadata": {},
   "source": [
    "**DataFrame**\n",
    "\n",
    "A DataFrame is a two-dimensional labeled data structure with columns of potentially different data types. It is similar to a spreadsheet or SQL table.\n",
    "\n",
    "**Key Characteristics of DataFrame:**\n",
    "* **Two-dimensional:** It has both rows and columns.\n",
    "* **Heterogeneous Data:** Each column can have different data types.\n",
    "* **Labeled Axes:** Both rows and columns are labeled.\n",
    "* **Size-Mutable:** You can add or remove columns and rows.\n",
    "\n",
    "**Example:**"
   ]
  },
  {
   "cell_type": "code",
   "execution_count": 47,
   "metadata": {},
   "outputs": [
    {
     "name": "stdout",
     "output_type": "stream",
     "text": [
      "      Name  Age         City\n",
      "0    Alice   25     New York\n",
      "1      Bob   30  Los Angeles\n",
      "2  Charlie   35      Chicago\n"
     ]
    }
   ],
   "source": [
    "data = {\n",
    "    'Name': ['Alice', 'Bob', 'Charlie'],\n",
    "    'Age': [25, 30, 35],\n",
    "    'City': ['New York', 'Los Angeles', 'Chicago']\n",
    "}\n",
    "df = pd.DataFrame(data)\n",
    "print(df)"
   ]
  },
  {
   "cell_type": "markdown",
   "metadata": {},
   "source": [
    "### **Create a daabase name Travel_Planner in mysql ,and creae a able name bookings in ha which having aribues (user_id INT, fligh_id INT,hoel_id INT, aciviy_id INT,booking_dae DATE) .fill wih some dummy value .Now you have o read he conen of his able using landas as daaframe.Show he output.**"
   ]
  },
  {
   "cell_type": "markdown",
   "metadata": {},
   "source": [
    "**Step 1: Setting Up the Database and Table**\n",
    "\n",
    " 1. **Install the necessary Python packages:**"
   ]
  },
  {
   "cell_type": "code",
   "execution_count": null,
   "metadata": {},
   "outputs": [],
   "source": [
    "# pip install mysql-connector-python sqlalchemy pandas"
   ]
  },
  {
   "cell_type": "markdown",
   "metadata": {},
   "source": [
    " 2. **Create the database and table, and insert dummy values:**"
   ]
  },
  {
   "cell_type": "code",
   "execution_count": null,
   "metadata": {},
   "outputs": [],
   "source": [
    "from sqlalchemy import create_engine, Table, Column, Integer, Date, MetaData\n",
    "from sqlalchemy.sql import text\n",
    "\n",
    "# Replace with your MySQL credentials\n",
    "username = 'your_username'\n",
    "password = 'your_password'\n",
    "host = 'localhost'\n",
    "database = 'Travel_Planner'\n",
    "\n",
    "# Connect to MySQL server\n",
    "engine = create_engine(f'mysql+mysqlconnector://{username}:{password}@{host}')\n",
    "\n",
    "# Create the Travel_Planner database\n",
    "with engine.connect() as connection:\n",
    "    connection.execute(text(f\"CREATE DATABASE IF NOT EXISTS {database}\"))\n",
    "\n",
    "# Connect to the new database\n",
    "engine = create_engine(f'mysql+mysqlconnector://{username}:{password}@{host}/{database}')\n",
    "metadata = MetaData()\n",
    "\n",
    "# Define the bookings table\n",
    "bookings = Table('bookings', metadata,\n",
    "                 Column('user_id', Integer),\n",
    "                 Column('flight_id', Integer),\n",
    "                 Column('hotel_id', Integer),\n",
    "                 Column('activity_id', Integer),\n",
    "                 Column('booking_date', Date))\n",
    "\n",
    "# Create the table in the database\n",
    "metadata.create_all(engine)\n",
    "\n",
    "# Insert dummy values\n",
    "with engine.connect() as connection:\n",
    "    connection.execute(bookings.insert(), [\n",
    "        {'user_id': 1, 'flight_id': 101, 'hotel_id': 201, 'activity_id': 301, 'booking_date': '2023-07-01'},\n",
    "        {'user_id': 2, 'flight_id': 102, 'hotel_id': 202, 'activity_id': 302, 'booking_date': '2023-07-02'},\n",
    "        {'user_id': 3, 'flight_id': 103, 'hotel_id': 203, 'activity_id': 303, 'booking_date': '2023-07-03'}\n",
    "    ])"
   ]
  },
  {
   "cell_type": "markdown",
   "metadata": {},
   "source": [
    "**Step 2: Reading the Table Contents into a Pandas DataFrame**"
   ]
  },
  {
   "cell_type": "code",
   "execution_count": null,
   "metadata": {},
   "outputs": [],
   "source": [
    "import pandas as pd\n",
    "\n",
    "# Read the contents of the bookings table into a DataFrame\n",
    "with engine.connect() as connection:\n",
    "    df = pd.read_sql_table('bookings', connection)\n",
    "\n",
    "# Display the DataFrame\n",
    "print(df)"
   ]
  },
  {
   "cell_type": "markdown",
   "metadata": {},
   "source": [
    "### **Difference between 'loc' and 'iloc'** \n",
    "\n",
    "**'loc':**\n",
    "* Accesses a group of rows and columns by labels or a boolean array.\n",
    "* It includes the start and end labels.\n",
    "* It is mainly used for label-based indexing"
   ]
  },
  {
   "cell_type": "code",
   "execution_count": 48,
   "metadata": {},
   "outputs": [
    {
     "name": "stdout",
     "output_type": "stream",
     "text": [
      "   A  B\n",
      "0  1  4\n",
      "1  2  5\n"
     ]
    }
   ],
   "source": [
    "df = pd.DataFrame({\n",
    "    'A': [1, 2, 3],\n",
    "    'B': [4, 5, 6],\n",
    "    'C': [7, 8, 9]\n",
    "})\n",
    "print(df.loc[0:1, ['A', 'B']])"
   ]
  },
  {
   "cell_type": "markdown",
   "metadata": {},
   "source": [
    "**'iloc':**\n",
    "* Accesses a group of rows and columns by integer position.\n",
    "* It excludes the end index.\n",
    "* It is mainly used for position-based indexing."
   ]
  },
  {
   "cell_type": "code",
   "execution_count": 49,
   "metadata": {},
   "outputs": [
    {
     "name": "stdout",
     "output_type": "stream",
     "text": [
      "   A  B\n",
      "0  1  4\n",
      "1  2  5\n"
     ]
    }
   ],
   "source": [
    "df = pd.DataFrame({\n",
    "    'A': [1, 2, 3],\n",
    "    'B': [4, 5, 6],\n",
    "    'C': [7, 8, 9]\n",
    "})\n",
    "print(df.iloc[0:2, 0:2])"
   ]
  },
  {
   "cell_type": "markdown",
   "metadata": {},
   "source": [
    "### **Difference between Supervised and Unsupervised Learning**\n",
    "\n",
    "**Supervised Learning:**\n",
    "* Uses labeled data to train the model.\n",
    "* The goal is to learn a mapping from input features to the output label.\n",
    "* Examples include regression and classification tasks.\n",
    "* Example: Predicting house prices based on historical data with known prices.\n",
    "\n",
    "**Unsupervised Learning:**\n",
    "* Uses unlabeled data to find hidden patterns or intrinsic structures in the input data.\n",
    "* There are no labels provided to the learning algorithm.\n",
    "* Examples include clustering and association tasks.\n",
    "* Example: Grouping customers into segments based on purchasing behavior."
   ]
  },
  {
   "cell_type": "markdown",
   "metadata": {},
   "source": [
    "### **Explain the Bias Variance Tradeoff**\n",
    "\n",
    "The bias-variance tradeoff is a fundamental concept in machine learning that describes the tradeoff between two sources of error that affect the performance of models:\n",
    "\n",
    "**Bias:**\n",
    "* Error due to overly simplistic assumptions in the learning algorithm.\n",
    "* High bias can cause underfitting, where the model is too simple to capture the underlying patterns in the data.\n",
    "\n",
    "**Variance:**\n",
    "* Error due to too much complexity in the learning algorithm.\n",
    "* High variance can cause overfitting, where the model captures noise along with the underlying patterns in the data.\n",
    "\n",
    "The goal is to find the right balance where both bias and variance are minimized to achieve good predictive performance on unseen data."
   ]
  },
  {
   "cell_type": "markdown",
   "metadata": {},
   "source": [
    "### **What are Precision and Recall? How are they difference from Accuracy?**\n",
    "\n",
    "**Precision:**\n",
    "* The ratio of true positive predictions to the total number of positive predictions made.\n",
    "* Precision = TP / (TP + FP)\n",
    "\n",
    "**Recall (Sensitivity):**\n",
    "* The ratio of true positive predictions to the total number of actual positives.\n",
    "* Recall = TP / (TP + FN)\n",
    "\n",
    "**Accuracy:**\n",
    "* The ratio of correctly predicted observations to the total observations.\n",
    "* Accuracy = (TP + TN) / (TP + TN + FP + FN)\n",
    "\n",
    "**Differences:**\n",
    "* Precision focuses on the accuracy of positive predictions, while recall focuses on the ability to find all relevant instances.\n",
    "* Accuracy considers both true positives and true negatives, which can be misleading in imbalanced datasets."
   ]
  },
  {
   "cell_type": "markdown",
   "metadata": {},
   "source": [
    "### **What is Overfitting and How Can It Be Prevented?**\n",
    "\n",
    "**Overfitting:**\n",
    "\n",
    "* Occurs when a model learns the training data too well, capturing noise and details that do not generalize to new data.\n",
    "* The model performs well on the training data but poorly on the test data.\n",
    "\n",
    "**Prevention Techniques:**\n",
    "* **Cross-Validation:** Use techniques like k-fold cross-validation to ensure the model generalizes well.\n",
    "* **Regularization:** Apply regularization techniques like L1 (Lasso) and L2 (Ridge) regularization to penalize overly complex models.\n",
    "* **Pruning:** For decision trees, prune unnecessary branches to reduce complexity.\n",
    "* **Early Stopping:** In iterative algorithms like neural networks, stop training when performance on a validation set starts to degrade.\n",
    "* **Data Augmentation:** Increase the amount of training data by augmenting it, which helps the model generalize better.\n",
    "* **Ensemble Methods:** Combine predictions from multiple models to reduce overfitting."
   ]
  },
  {
   "cell_type": "markdown",
   "metadata": {},
   "source": [
    "### **Explain the concept of cross-validation**\n",
    "\n",
    "Cross-validation is a technique used to evaluate the performance of a machine learning model by partitioning the original dataset into a training set to train the model and a test set to evaluate it. The primary purpose is to assess how the model generalizes to an independent dataset.\n",
    "\n",
    "* **K-Fold Cross-Validation:** The dataset is divided into k subsets. The model is trained on k-1 subsets and tested on the remaining subset. This process is repeated k times, each time with a different subset as the test set.\n",
    "* **Leave-One-Out Cross-Validation (LOOCV):** A special case of k-fold where k equals the number of observations, meaning each observation is used once as a test set.\n",
    "* **Stratified K-Fold:** Similar to k-fold but ensures that each fold has the same proportion of classes as the original dataset."
   ]
  },
  {
   "cell_type": "markdown",
   "metadata": {},
   "source": [
    "### **What is the difference between a classification and a regression problem?**\n",
    "\n",
    "* **Classification:** Predicts discrete labels or categories. Example: Classifying emails as spam or not spam.\n",
    "* **Regression:** Predicts continuous values. Example: Predicting house prices based on various features."
   ]
  },
  {
   "cell_type": "markdown",
   "metadata": {},
   "source": [
    "### **Explain the concept of ensemble learning**\n",
    "\n",
    "Ensemble learning involves combining multiple machine learning models to improve the overall performance. The idea is that a group of weak learners can come together to form a strong learner.\n",
    "\n",
    "* **Bagging (Bootstrap Aggregating):** Builds multiple models independently using bootstrapped subsets of the data and combines their predictions by averaging (regression) or voting (classification).\n",
    "* **Boosting:** Builds models sequentially, where each new model focuses on the errors made by previous models, improving the overall model incrementally.\n",
    "* **Stacking:** Combines the predictions of multiple base models using another model (meta-model) to make the final prediction."
   ]
  },
  {
   "cell_type": "markdown",
   "metadata": {},
   "source": [
    "### **What is gradient descent and how does it work?**\n",
    "\n",
    "Gradient descent is an optimization algorithm used to minimize the cost function in machine learning models. It works by iteratively adjusting the model parameters in the opposite direction of the gradient of the cost function with respect to the parameters.\n",
    "\n",
    "**Steps:**\n",
    " 1. Initialize parameters randomly.\n",
    " 2. Compute the gradient of the cost function.\n",
    " 3. Update parameters by moving them in the direction of the negative gradient.\n",
    " 4. Repeat steps 2 and 3 until convergence."
   ]
  },
  {
   "cell_type": "markdown",
   "metadata": {},
   "source": [
    "### **Describe the difference between batch gradient descent and stochastic gradient descent**\n",
    "\n",
    "* **Batch Gradient Descent:** Uses the entire dataset to compute the gradient of the cost function and update parameters.\n",
    "* **Stochastic Gradient Descent (SGD):** Uses one sample at a time to compute the gradient and update parameters. It introduces more noise into the process but can converge faster and handle larger datasets."
   ]
  },
  {
   "cell_type": "markdown",
   "metadata": {},
   "source": [
    "### **What is the curse of dimensionality in machine learning?**\n",
    "\n",
    "The curse of dimensionality refers to various phenomena that arise when working with high-dimensional data. As the number of features (dimensions) increases, the volume of the space increases exponentially, making the data sparse. This sparsity makes it difficult for models to find patterns and increases the risk of overfitting."
   ]
  },
  {
   "cell_type": "markdown",
   "metadata": {},
   "source": [
    "### **Explain the difference between L1 and L2 regularization**\n",
    "\n",
    "* **L1 Regularization (Lasso):** Adds the absolute value of the coefficients as a penalty term to the cost function. It can shrink some coefficients to zero, performing feature selection.\n",
    "* **L2 Regularization (Ridge):** Adds the squared value of the coefficients as a penalty term to the cost function. It discourages large coefficients but doesn’t shrink them to zero."
   ]
  },
  {
   "cell_type": "markdown",
   "metadata": {},
   "source": [
    "### **What is a confusion matrix and how is it used?**\n",
    "\n",
    "A confusion matrix is a table used to evaluate the performance of a classification algorithm. It shows the counts of true positive (TP), true negative (TN), false positive (FP), and false negative (FN) predictions.\n",
    "\n",
    "**Metrics Derived:**\n",
    "* Accuracy = (TP + TN) / (TP + TN + FP + FN)\n",
    "* Precision = TP / (TP + FP)\n",
    "* Recall (Sensitivity) = TP / (TP + FN)\n",
    "* F1 Score: Harmonic mean of precision and recall."
   ]
  },
  {
   "cell_type": "markdown",
   "metadata": {},
   "source": [
    "### **Define AUC-ROC curve**\n",
    "\n",
    "The AUC-ROC curve is a performance measurement for classification problems. The ROC curve plots the true positive rate (recall) against the false positive rate (1-specificity) at various threshold settings. The AUC (Area Under the Curve) represents the degree or measure of separability, with a value closer to 1 indicating better performance."
   ]
  },
  {
   "cell_type": "markdown",
   "metadata": {},
   "source": [
    "### **Explain the k-nearest neighbors algorithm**\n",
    "\n",
    "The k-nearest neighbors (k-NN) algorithm is a simple, non-parametric classification (and regression) method that classifies a data point based on the majority class among its k nearest neighbors.\n",
    "\n",
    "**Steps:**\n",
    " 1. Choose the number of neighbors 𝑘.\n",
    " 2. Calculate the distance between the test data and all training data points.\n",
    " 3. Select the k nearest neighbors.\n",
    " 4. Assign the most common class (for classification) or average value (for regression) among the neighbors to the test data."
   ]
  },
  {
   "cell_type": "markdown",
   "metadata": {},
   "source": [
    "### **Explain the basic concept of a Support Vector Machine (SVM)**\n",
    "\n",
    "SVM is a supervised learning algorithm used for classification and regression tasks. It works by finding the hyperplane that best separates the classes in the feature space."
   ]
  },
  {
   "cell_type": "markdown",
   "metadata": {},
   "source": [
    "### **How does the kernel trick work in SVM?**\n",
    "\n",
    "The kernel trick allows SVM to operate in a high-dimensional space without explicitly computing the coordinates of the data in that space. It uses kernel functions to compute the inner products between the images of all pairs of data in the feature space, enabling efficient processing of non-linear data."
   ]
  },
  {
   "cell_type": "markdown",
   "metadata": {},
   "source": [
    "### **What are the different types of kernels used in SVM and when would you use each?**\n",
    "\n",
    "* **Linear Kernel:** For linearly separable data.\n",
    "* **Polynomial Kernel:** For data where the relationship between features is polynomial.\n",
    "* **Radial Basis Function (RBF) Kernel:** For non-linear data; it can handle the complexity of the decision boundary.\n",
    "* **Sigmoid Kernel:** Acts like a neural network; useful for specific problems."
   ]
  },
  {
   "cell_type": "markdown",
   "metadata": {},
   "source": [
    "### **What is the hyperplane in SVM and how is it determined?**\n",
    "\n",
    "A hyperplane is a decision boundary that separates different classes in the feature space. In SVM, it is determined by maximizing the margin between the closest points of different classes, known as support vectors."
   ]
  },
  {
   "cell_type": "markdown",
   "metadata": {},
   "source": [
    "### **What are the pros and cons of using a Support Vector Machine (SVM)?**\n",
    "\n",
    "**Pros:**\n",
    "* Effective in high-dimensional spaces.\n",
    "* Memory efficient due to the use of support vectors.\n",
    "* Versatile with various kernel functions.\n",
    "\n",
    "**Cons:**\n",
    "* Can be computationally intensive for large datasets.\n",
    "* Not suitable for very large datasets.\n",
    "* Choosing the right kernel and parameters can be challenging."
   ]
  },
  {
   "cell_type": "markdown",
   "metadata": {},
   "source": [
    "### **Explain the difference between a hard margin and a soft margin SVM**\n",
    "\n",
    "* **Hard Margin SVM:** Assumes that the data is linearly separable and finds a hyperplane that perfectly separates the classes.\n",
    "* **Soft Margin SVM:** Allows some misclassifications by introducing a penalty for errors, making it more robust to noise and non-linearly separable data."
   ]
  },
  {
   "cell_type": "markdown",
   "metadata": {},
   "source": [
    "### **Describe the process of constructing a decision tree**\n",
    "\n",
    "Decision trees are constructed by recursively splitting the dataset into subsets based on the feature that results in the highest information gain (or lowest impurity)."
   ]
  },
  {
   "cell_type": "markdown",
   "metadata": {},
   "source": [
    "### **Describe the working principle of a decision trees?**\n",
    "\n",
    "A decision tree uses a tree-like model of decisions and their possible consequences. It splits the data at each node based on a feature that maximizes the separation of classes, continuing recursively until all data is classified or a stopping criterion is met."
   ]
  },
  {
   "cell_type": "markdown",
   "metadata": {},
   "source": [
    "### **What is information gain and how is it used in decision trees?**\n",
    "\n",
    "Information gain measures the reduction in entropy (impurity) after a dataset is split on a feature. It is used to decide which feature to split on at each step in building the tree.\n",
    "\n",
    "### **Explain Gini impurity and its role in decision trees**\n",
    "\n",
    "Gini impurity measures the probability of incorrectly classifying a randomly chosen element if it was randomly labeled according to the distribution of labels in the dataset. It is used to decide the splits in the tree.\n",
    "\n",
    "### **What are the advantages and disadvantages of decision trees?**\n",
    "\n",
    "**Advantages:**\n",
    "* Easy to understand and interpret.\n",
    "* Can handle both numerical and categorical data.\n",
    "* Requires little data preprocessing.\n",
    "\n",
    "**Disadvantages:**\n",
    "* Prone to overfitting.\n",
    "* Can be unstable with small variations in data.\n",
    "* Greedy algorithms may not find the best tree.\n",
    "\n",
    "### **How do random forests improve upon decision trees?**\n",
    "\n",
    "Random forests improve upon decision trees by constructing multiple trees (each trained on a different subset of the data) and averaging their predictions to reduce overfitting and improve generalization.\n",
    "\n",
    "### **How does a random forest algorithm work?**\n",
    "\n",
    "Random forests work by creating multiple decision trees using bootstrapped subsets of the data and random subsets of features for each split. The final prediction is made by aggregating the predictions of all trees (majority vote for classification, average for regression).\n",
    "\n",
    "### **What is bootstrapping in the context of random forests?**\n",
    "\n",
    "Bootstrapping involves creating multiple subsets of the dataset by sampling with replacement. Each subset is used to train a different decision tree in the random forest.\n",
    "\n",
    "### **Explain the concept of feature importance in random forests**\n",
    "\n",
    "Feature importance measures the contribution of each feature to the prediction accuracy of the model. It is calculated based on how much the prediction error increases when the values of the feature are permuted"
   ]
  },
  {
   "cell_type": "markdown",
   "metadata": {},
   "source": [
    "### **What are the key hyperparameters of a random forest and how do they affect the model?**\n",
    "\n",
    "* **Number of Trees (n_estimators):** The number of trees in the forest. Increasing this usually improves performance but also increases computational cost.\n",
    "* **Maximum Depth (max_depth):** The maximum depth of each tree. Limiting depth can prevent overfitting.\n",
    "* **Minimum Samples Split (min_samples_split):** The minimum number of samples required to split an internal node. Higher values prevent overfitting.\n",
    "* **Minimum Samples Leaf (min_samples_leaf):** The minimum number of samples required to be at a leaf node. Larger values help prevent overfitting.\n",
    "* **Maximum Features (max_features):** The number of features to consider when looking for the best split. Reducing this can improve generalization and decrease computation time.\n",
    "* **Bootstrap:** Whether bootstrap samples are used when building trees. If False, the whole dataset is used to build each tree.\n",
    "\n",
    "### **Describe the logistic regression model and its assumptions**\n",
    "\n",
    "Logistic regression is a statistical model used for binary classification. It models the probability that a given input belongs to a certain class.\n",
    "\n",
    "**Assumptions:**\n",
    "\n",
    "* **Linearity:** The logit (log-odds) of the outcome is a linear combination of the predictor variables.\n",
    "* **Independence:** Observations are independent of each other.\n",
    "* **No multicollinearity:** Predictor variables are not highly correlated.\n",
    "* **Large sample size:** More data leads to more stable and reliable estimates.\n",
    "\n",
    "### **How does logistic regression handle binary classification problems?**\n",
    "\n",
    "Logistic regression uses the logistic function (sigmoid) to model the probability that a given input belongs to the positive class. The output is a probability value between 0 and 1, which is then thresholded to classify the input as either class 0 or class 1."
   ]
  },
  {
   "cell_type": "markdown",
   "metadata": {},
   "source": [
    "### **What is the sigmoid function and how is it used in logistic regression?**\n",
    "\n",
    "The sigmoid function is defined as 𝜎(𝑧) = 1/1+𝑒^-𝑧. It maps any real-valued number into the [0, 1] interval, making it suitable for modeling probabilities.\n",
    "\n",
    "In logistic regression, the linear combination of the input features and their coefficients is passed through the sigmoid function to obtain the probability of the positive class.\n",
    "\n",
    "### **Explain the concept of the cost function in logistic regression**\n",
    "\n",
    "The cost function in logistic regression, often called the log-loss or binary cross-entropy, measures how well the model's predicted probabilities match the actual class labels. It is given by:\n",
    "\n",
    "𝐽(𝜃) = (−1/𝑚)∑(𝑖=1,𝑚)[𝑦𝑖log(ℎ𝜃(𝑥𝑖))+(1−𝑦𝑖)log(1−ℎ𝜃(𝑥𝑖))]\n",
    "\n",
    "where ℎ𝜃(𝑥𝑖) is the predicted probability for the i-th example. The goal is to minimize this cost function.\n",
    "\n",
    "### **How can logistic regression be extended to handle multiclass classification?**\n",
    "\n",
    "Logistic regression can be extended to multiclass classification using:\n",
    "* **One-vs-Rest (OvR):** A separate binary classifier is trained for each class, treating it as the positive class and all other classes as negative. The class with the highest probability is chosen as the prediction.\n",
    "* **Softmax Regression (Multinomial Logistic Regression):** A generalization of logistic regression that directly predicts the probabilities of each class using the softmax function.\n",
    "\n",
    "### **What is the difference between L1 and L2 regularization in logistic regression?**\n",
    "\n",
    "* **L1 Regularization (Lasso):** Adds the absolute value of the coefficients as a penalty term to the cost function. It can shrink some coefficients to zero, performing feature selection.\n",
    "* **L2 Regularization (Ridge):** Adds the squared value of the coefficients as a penalty term to the cost function. It discourages large coefficients but doesn’t shrink them to zero.\n",
    "\n",
    "### **What is XGBoost and how does it differ from other boosting algorithms?**\n",
    "\n",
    "XGBoost (Extreme Gradient Boosting) is an efficient and scalable implementation of gradient boosting. It differs from other boosting algorithms by incorporating several advanced features such as regularization (L1 and L2), parallel processing, tree pruning, and handling missing values.\n",
    "\n",
    "\n",
    "### **Explain the concept of boosting in the context of ensemble learning**\n",
    "\n",
    "Boosting is an ensemble technique that combines the predictions of multiple weak learners to form a strong learner. It works by sequentially training weak models, each focusing on the errors of the previous models, thus improving the overall performance.\n",
    "\n",
    "### **How does XGBoost handle missing values?**\n",
    "\n",
    "XGBoost handles missing values by learning the best direction to go (left or right) when encountering a missing value in a decision tree. It does this during training by finding the optimal path based on the training data.\n",
    "\n",
    "### **What are the key hyperparameters in XGBoost and how do they affect model performance?**\n",
    "\n",
    "* **Number of Trees (n_estimators):** Number of boosting rounds. More rounds can improve performance but also increase the risk of overfitting.\n",
    "* **Learning Rate (eta):** Step size shrinkage to prevent overfitting. Lower values make the model more robust but require more trees.\n",
    "* **aximum Depth (max_depth):** Maximum depth of the trees. Deeper trees can model more complex relationships but may overfit.\n",
    "* **Subsample:** Fraction of training instances used to train each tree. Reduces overfitting and improves generalization.\n",
    "* **Colsample_bytree:** Fraction of features used to train each tree. Reduces overfitting.\n",
    "* **Gamma:** Minimum loss reduction required to make a further partition on a leaf node. Higher values lead to more conservative tree growth.\n",
    "* **Alpha (L1 regularization term):** Adds regularization to the weights to reduce overfitting.\n",
    "* **Lambda (L2 regularization term):** Adds regularization to the weights to reduce overfitting.\n",
    "\n",
    "### **Describe the process of gradient boosting in XGBoost**\n",
    "\n",
    "Gradient boosting in XGBoost involves the following steps:\n",
    " 1. **Initialization:** Start with an initial model (usually a constant prediction).\n",
    " 2. **Compute Residuals:** Calculate the difference between the actual values and the predictions (residuals).\n",
    " 3. **Train Weak Learner:** Train a new weak learner to predict the residuals.\n",
    " 4. **Update Model:** Add the predictions of the new weak learner to the previous model.\n",
    " 5. **Repeat:** Continue this process for a specified number of rounds or until the residuals are minimized.\n",
    "\n",
    "### **What are the advantages and disadvantages of using XGBoost?**\n",
    "\n",
    "**Advantages:**\n",
    "* High performance and efficiency.\n",
    "* Handles missing data well.\n",
    "* Incorporates regularization to prevent overfitting.\n",
    "* Supports parallel processing.\n",
    "* Flexible with various hyperparameters.\n",
    "\n",
    "**Disadvantages:**\n",
    "* Can be computationally intensive.\n",
    "* Requires careful tuning of hyperparameters.\n",
    "* May not perform well on very high-dimensional sparse data."
   ]
  }
 ],
 "metadata": {
  "kernelspec": {
   "display_name": "Python 3",
   "language": "python",
   "name": "python3"
  },
  "language_info": {
   "codemirror_mode": {
    "name": "ipython",
    "version": 3
   },
   "file_extension": ".py",
   "mimetype": "text/x-python",
   "name": "python",
   "nbconvert_exporter": "python",
   "pygments_lexer": "ipython3",
   "version": "3.11.5"
  }
 },
 "nbformat": 4,
 "nbformat_minor": 2
}
